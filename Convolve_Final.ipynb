{
  "nbformat": 4,
  "nbformat_minor": 0,
  "metadata": {
    "colab": {
      "provenance": [],
      "gpuType": "T4",
      "include_colab_link": true
    },
    "kernelspec": {
      "name": "python3",
      "display_name": "Python 3"
    },
    "language_info": {
      "name": "python"
    },
    "accelerator": "GPU"
  },
  "cells": [
    {
      "cell_type": "markdown",
      "metadata": {
        "id": "view-in-github",
        "colab_type": "text"
      },
      "source": [
        "<a href=\"https://colab.research.google.com/github/0xD4rky/Sparks-Foundation/blob/main/Convolve_Final.ipynb\" target=\"_parent\"><img src=\"https://colab.research.google.com/assets/colab-badge.svg\" alt=\"Open In Colab\"/></a>"
      ]
    },
    {
      "cell_type": "code",
      "execution_count": null,
      "metadata": {
        "id": "SNK3wif3yHGK"
      },
      "outputs": [],
      "source": [
        "import pandas as pd\n",
        "import numpy as np\n",
        "import matplotlib.pyplot as plt\n",
        "import seaborn as sns"
      ]
    },
    {
      "cell_type": "code",
      "source": [
        "df = pd.read_csv('/content/TrainingDataBank.csv')"
      ],
      "metadata": {
        "colab": {
          "base_uri": "https://localhost:8080/"
        },
        "id": "hI_he1UOyiTV",
        "outputId": "263fb7d9-ddd7-44fa-a0fa-ca2e0130467d"
      },
      "execution_count": null,
      "outputs": [
        {
          "output_type": "stream",
          "name": "stderr",
          "text": [
            "<ipython-input-2-d69168735915>:1: DtypeWarning: Columns (5,18,23,24,25,26,27) have mixed types. Specify dtype option on import or set low_memory=False.\n",
            "  df = pd.read_csv('/content/TrainingDataBank.csv')\n"
          ]
        }
      ]
    },
    {
      "cell_type": "code",
      "source": [
        "df_val = pd.read_csv('/content/Bank_Validation_Data.csv')"
      ],
      "metadata": {
        "colab": {
          "base_uri": "https://localhost:8080/"
        },
        "id": "qIHvCKl1dw1L",
        "outputId": "f4c69d62-053b-422f-fa21-1bdacdd22c0e"
      },
      "execution_count": null,
      "outputs": [
        {
          "output_type": "stream",
          "name": "stderr",
          "text": [
            "<ipython-input-3-cbe4bd292ec6>:1: DtypeWarning: Columns (4,17,22,23,24,25,26) have mixed types. Specify dtype option on import or set low_memory=False.\n",
            "  df_val = pd.read_csv('/content/Bank_Validation_Data.csv')\n"
          ]
        }
      ]
    },
    {
      "cell_type": "code",
      "source": [
        "df.head(5)"
      ],
      "metadata": {
        "colab": {
          "base_uri": "https://localhost:8080/",
          "height": 308
        },
        "id": "iRg-Tu1w1v0m",
        "outputId": "1c499de8-9c15-4eda-9f1b-b7461173a91f"
      },
      "execution_count": null,
      "outputs": [
        {
          "output_type": "execute_result",
          "data": {
            "text/plain": [
              "   Primary key  Target account_opening_date country_code  demog_1 demog_2  \\\n",
              "0            1       0            2/18/2023           IN     53.0     3.0   \n",
              "1            2       0             2/1/2023           IN     55.0     1.0   \n",
              "2            3       0            12/9/2022           IN     55.0     3.0   \n",
              "3            4       0            3/31/2023           IN     53.0     3.0   \n",
              "4            5       0            1/17/2023           IN     55.0     6.0   \n",
              "\n",
              "         income  demog_3 city_tier     occupation  ... demog_39  email_domain  \\\n",
              "0  100001 to 5L    101.0     Rural  Self_Employed  ...        1         gmail   \n",
              "1       0 to 1L    101.0    Tier 1       Salaried  ...        1         gmail   \n",
              "2       0 to 1L    101.0    Tier 2  Self_Employed  ...        1         gmail   \n",
              "3  100001 to 5L    101.0    Tier 7  Self_Employed  ...        1         gmail   \n",
              "4       0 to 1L    101.0    Tier 1        Student  ...        1         gmail   \n",
              "\n",
              "   demog_40  demog_41  others_42 others_43 others_44  others_45 demog_42  \\\n",
              "0       low         1        NaN       0.0       NaN        NaN        1   \n",
              "1      High         1        NaN       NaN       NaN        NaN        1   \n",
              "2    medium         1        NaN       NaN       NaN        NaN        1   \n",
              "3      High         1        NaN       NaN       NaN        NaN        1   \n",
              "4       low         1        NaN       NaN       NaN        NaN        1   \n",
              "\n",
              "  demog_43  \n",
              "0   medium  \n",
              "1     High  \n",
              "2     High  \n",
              "3     High  \n",
              "4   medium  \n",
              "\n",
              "[5 rows x 178 columns]"
            ],
            "text/html": [
              "\n",
              "  <div id=\"df-769a8fbb-8200-44ea-9ad5-a35f2daf4a83\" class=\"colab-df-container\">\n",
              "    <div>\n",
              "<style scoped>\n",
              "    .dataframe tbody tr th:only-of-type {\n",
              "        vertical-align: middle;\n",
              "    }\n",
              "\n",
              "    .dataframe tbody tr th {\n",
              "        vertical-align: top;\n",
              "    }\n",
              "\n",
              "    .dataframe thead th {\n",
              "        text-align: right;\n",
              "    }\n",
              "</style>\n",
              "<table border=\"1\" class=\"dataframe\">\n",
              "  <thead>\n",
              "    <tr style=\"text-align: right;\">\n",
              "      <th></th>\n",
              "      <th>Primary key</th>\n",
              "      <th>Target</th>\n",
              "      <th>account_opening_date</th>\n",
              "      <th>country_code</th>\n",
              "      <th>demog_1</th>\n",
              "      <th>demog_2</th>\n",
              "      <th>income</th>\n",
              "      <th>demog_3</th>\n",
              "      <th>city_tier</th>\n",
              "      <th>occupation</th>\n",
              "      <th>...</th>\n",
              "      <th>demog_39</th>\n",
              "      <th>email_domain</th>\n",
              "      <th>demog_40</th>\n",
              "      <th>demog_41</th>\n",
              "      <th>others_42</th>\n",
              "      <th>others_43</th>\n",
              "      <th>others_44</th>\n",
              "      <th>others_45</th>\n",
              "      <th>demog_42</th>\n",
              "      <th>demog_43</th>\n",
              "    </tr>\n",
              "  </thead>\n",
              "  <tbody>\n",
              "    <tr>\n",
              "      <th>0</th>\n",
              "      <td>1</td>\n",
              "      <td>0</td>\n",
              "      <td>2/18/2023</td>\n",
              "      <td>IN</td>\n",
              "      <td>53.0</td>\n",
              "      <td>3.0</td>\n",
              "      <td>100001 to 5L</td>\n",
              "      <td>101.0</td>\n",
              "      <td>Rural</td>\n",
              "      <td>Self_Employed</td>\n",
              "      <td>...</td>\n",
              "      <td>1</td>\n",
              "      <td>gmail</td>\n",
              "      <td>low</td>\n",
              "      <td>1</td>\n",
              "      <td>NaN</td>\n",
              "      <td>0.0</td>\n",
              "      <td>NaN</td>\n",
              "      <td>NaN</td>\n",
              "      <td>1</td>\n",
              "      <td>medium</td>\n",
              "    </tr>\n",
              "    <tr>\n",
              "      <th>1</th>\n",
              "      <td>2</td>\n",
              "      <td>0</td>\n",
              "      <td>2/1/2023</td>\n",
              "      <td>IN</td>\n",
              "      <td>55.0</td>\n",
              "      <td>1.0</td>\n",
              "      <td>0 to 1L</td>\n",
              "      <td>101.0</td>\n",
              "      <td>Tier 1</td>\n",
              "      <td>Salaried</td>\n",
              "      <td>...</td>\n",
              "      <td>1</td>\n",
              "      <td>gmail</td>\n",
              "      <td>High</td>\n",
              "      <td>1</td>\n",
              "      <td>NaN</td>\n",
              "      <td>NaN</td>\n",
              "      <td>NaN</td>\n",
              "      <td>NaN</td>\n",
              "      <td>1</td>\n",
              "      <td>High</td>\n",
              "    </tr>\n",
              "    <tr>\n",
              "      <th>2</th>\n",
              "      <td>3</td>\n",
              "      <td>0</td>\n",
              "      <td>12/9/2022</td>\n",
              "      <td>IN</td>\n",
              "      <td>55.0</td>\n",
              "      <td>3.0</td>\n",
              "      <td>0 to 1L</td>\n",
              "      <td>101.0</td>\n",
              "      <td>Tier 2</td>\n",
              "      <td>Self_Employed</td>\n",
              "      <td>...</td>\n",
              "      <td>1</td>\n",
              "      <td>gmail</td>\n",
              "      <td>medium</td>\n",
              "      <td>1</td>\n",
              "      <td>NaN</td>\n",
              "      <td>NaN</td>\n",
              "      <td>NaN</td>\n",
              "      <td>NaN</td>\n",
              "      <td>1</td>\n",
              "      <td>High</td>\n",
              "    </tr>\n",
              "    <tr>\n",
              "      <th>3</th>\n",
              "      <td>4</td>\n",
              "      <td>0</td>\n",
              "      <td>3/31/2023</td>\n",
              "      <td>IN</td>\n",
              "      <td>53.0</td>\n",
              "      <td>3.0</td>\n",
              "      <td>100001 to 5L</td>\n",
              "      <td>101.0</td>\n",
              "      <td>Tier 7</td>\n",
              "      <td>Self_Employed</td>\n",
              "      <td>...</td>\n",
              "      <td>1</td>\n",
              "      <td>gmail</td>\n",
              "      <td>High</td>\n",
              "      <td>1</td>\n",
              "      <td>NaN</td>\n",
              "      <td>NaN</td>\n",
              "      <td>NaN</td>\n",
              "      <td>NaN</td>\n",
              "      <td>1</td>\n",
              "      <td>High</td>\n",
              "    </tr>\n",
              "    <tr>\n",
              "      <th>4</th>\n",
              "      <td>5</td>\n",
              "      <td>0</td>\n",
              "      <td>1/17/2023</td>\n",
              "      <td>IN</td>\n",
              "      <td>55.0</td>\n",
              "      <td>6.0</td>\n",
              "      <td>0 to 1L</td>\n",
              "      <td>101.0</td>\n",
              "      <td>Tier 1</td>\n",
              "      <td>Student</td>\n",
              "      <td>...</td>\n",
              "      <td>1</td>\n",
              "      <td>gmail</td>\n",
              "      <td>low</td>\n",
              "      <td>1</td>\n",
              "      <td>NaN</td>\n",
              "      <td>NaN</td>\n",
              "      <td>NaN</td>\n",
              "      <td>NaN</td>\n",
              "      <td>1</td>\n",
              "      <td>medium</td>\n",
              "    </tr>\n",
              "  </tbody>\n",
              "</table>\n",
              "<p>5 rows × 178 columns</p>\n",
              "</div>\n",
              "    <div class=\"colab-df-buttons\">\n",
              "\n",
              "  <div class=\"colab-df-container\">\n",
              "    <button class=\"colab-df-convert\" onclick=\"convertToInteractive('df-769a8fbb-8200-44ea-9ad5-a35f2daf4a83')\"\n",
              "            title=\"Convert this dataframe to an interactive table.\"\n",
              "            style=\"display:none;\">\n",
              "\n",
              "  <svg xmlns=\"http://www.w3.org/2000/svg\" height=\"24px\" viewBox=\"0 -960 960 960\">\n",
              "    <path d=\"M120-120v-720h720v720H120Zm60-500h600v-160H180v160Zm220 220h160v-160H400v160Zm0 220h160v-160H400v160ZM180-400h160v-160H180v160Zm440 0h160v-160H620v160ZM180-180h160v-160H180v160Zm440 0h160v-160H620v160Z\"/>\n",
              "  </svg>\n",
              "    </button>\n",
              "\n",
              "  <style>\n",
              "    .colab-df-container {\n",
              "      display:flex;\n",
              "      gap: 12px;\n",
              "    }\n",
              "\n",
              "    .colab-df-convert {\n",
              "      background-color: #E8F0FE;\n",
              "      border: none;\n",
              "      border-radius: 50%;\n",
              "      cursor: pointer;\n",
              "      display: none;\n",
              "      fill: #1967D2;\n",
              "      height: 32px;\n",
              "      padding: 0 0 0 0;\n",
              "      width: 32px;\n",
              "    }\n",
              "\n",
              "    .colab-df-convert:hover {\n",
              "      background-color: #E2EBFA;\n",
              "      box-shadow: 0px 1px 2px rgba(60, 64, 67, 0.3), 0px 1px 3px 1px rgba(60, 64, 67, 0.15);\n",
              "      fill: #174EA6;\n",
              "    }\n",
              "\n",
              "    .colab-df-buttons div {\n",
              "      margin-bottom: 4px;\n",
              "    }\n",
              "\n",
              "    [theme=dark] .colab-df-convert {\n",
              "      background-color: #3B4455;\n",
              "      fill: #D2E3FC;\n",
              "    }\n",
              "\n",
              "    [theme=dark] .colab-df-convert:hover {\n",
              "      background-color: #434B5C;\n",
              "      box-shadow: 0px 1px 3px 1px rgba(0, 0, 0, 0.15);\n",
              "      filter: drop-shadow(0px 1px 2px rgba(0, 0, 0, 0.3));\n",
              "      fill: #FFFFFF;\n",
              "    }\n",
              "  </style>\n",
              "\n",
              "    <script>\n",
              "      const buttonEl =\n",
              "        document.querySelector('#df-769a8fbb-8200-44ea-9ad5-a35f2daf4a83 button.colab-df-convert');\n",
              "      buttonEl.style.display =\n",
              "        google.colab.kernel.accessAllowed ? 'block' : 'none';\n",
              "\n",
              "      async function convertToInteractive(key) {\n",
              "        const element = document.querySelector('#df-769a8fbb-8200-44ea-9ad5-a35f2daf4a83');\n",
              "        const dataTable =\n",
              "          await google.colab.kernel.invokeFunction('convertToInteractive',\n",
              "                                                    [key], {});\n",
              "        if (!dataTable) return;\n",
              "\n",
              "        const docLinkHtml = 'Like what you see? Visit the ' +\n",
              "          '<a target=\"_blank\" href=https://colab.research.google.com/notebooks/data_table.ipynb>data table notebook</a>'\n",
              "          + ' to learn more about interactive tables.';\n",
              "        element.innerHTML = '';\n",
              "        dataTable['output_type'] = 'display_data';\n",
              "        await google.colab.output.renderOutput(dataTable, element);\n",
              "        const docLink = document.createElement('div');\n",
              "        docLink.innerHTML = docLinkHtml;\n",
              "        element.appendChild(docLink);\n",
              "      }\n",
              "    </script>\n",
              "  </div>\n",
              "\n",
              "\n",
              "<div id=\"df-00439d18-a158-4d23-a7cf-d12108f2f530\">\n",
              "  <button class=\"colab-df-quickchart\" onclick=\"quickchart('df-00439d18-a158-4d23-a7cf-d12108f2f530')\"\n",
              "            title=\"Suggest charts\"\n",
              "            style=\"display:none;\">\n",
              "\n",
              "<svg xmlns=\"http://www.w3.org/2000/svg\" height=\"24px\"viewBox=\"0 0 24 24\"\n",
              "     width=\"24px\">\n",
              "    <g>\n",
              "        <path d=\"M19 3H5c-1.1 0-2 .9-2 2v14c0 1.1.9 2 2 2h14c1.1 0 2-.9 2-2V5c0-1.1-.9-2-2-2zM9 17H7v-7h2v7zm4 0h-2V7h2v10zm4 0h-2v-4h2v4z\"/>\n",
              "    </g>\n",
              "</svg>\n",
              "  </button>\n",
              "\n",
              "<style>\n",
              "  .colab-df-quickchart {\n",
              "      --bg-color: #E8F0FE;\n",
              "      --fill-color: #1967D2;\n",
              "      --hover-bg-color: #E2EBFA;\n",
              "      --hover-fill-color: #174EA6;\n",
              "      --disabled-fill-color: #AAA;\n",
              "      --disabled-bg-color: #DDD;\n",
              "  }\n",
              "\n",
              "  [theme=dark] .colab-df-quickchart {\n",
              "      --bg-color: #3B4455;\n",
              "      --fill-color: #D2E3FC;\n",
              "      --hover-bg-color: #434B5C;\n",
              "      --hover-fill-color: #FFFFFF;\n",
              "      --disabled-bg-color: #3B4455;\n",
              "      --disabled-fill-color: #666;\n",
              "  }\n",
              "\n",
              "  .colab-df-quickchart {\n",
              "    background-color: var(--bg-color);\n",
              "    border: none;\n",
              "    border-radius: 50%;\n",
              "    cursor: pointer;\n",
              "    display: none;\n",
              "    fill: var(--fill-color);\n",
              "    height: 32px;\n",
              "    padding: 0;\n",
              "    width: 32px;\n",
              "  }\n",
              "\n",
              "  .colab-df-quickchart:hover {\n",
              "    background-color: var(--hover-bg-color);\n",
              "    box-shadow: 0 1px 2px rgba(60, 64, 67, 0.3), 0 1px 3px 1px rgba(60, 64, 67, 0.15);\n",
              "    fill: var(--button-hover-fill-color);\n",
              "  }\n",
              "\n",
              "  .colab-df-quickchart-complete:disabled,\n",
              "  .colab-df-quickchart-complete:disabled:hover {\n",
              "    background-color: var(--disabled-bg-color);\n",
              "    fill: var(--disabled-fill-color);\n",
              "    box-shadow: none;\n",
              "  }\n",
              "\n",
              "  .colab-df-spinner {\n",
              "    border: 2px solid var(--fill-color);\n",
              "    border-color: transparent;\n",
              "    border-bottom-color: var(--fill-color);\n",
              "    animation:\n",
              "      spin 1s steps(1) infinite;\n",
              "  }\n",
              "\n",
              "  @keyframes spin {\n",
              "    0% {\n",
              "      border-color: transparent;\n",
              "      border-bottom-color: var(--fill-color);\n",
              "      border-left-color: var(--fill-color);\n",
              "    }\n",
              "    20% {\n",
              "      border-color: transparent;\n",
              "      border-left-color: var(--fill-color);\n",
              "      border-top-color: var(--fill-color);\n",
              "    }\n",
              "    30% {\n",
              "      border-color: transparent;\n",
              "      border-left-color: var(--fill-color);\n",
              "      border-top-color: var(--fill-color);\n",
              "      border-right-color: var(--fill-color);\n",
              "    }\n",
              "    40% {\n",
              "      border-color: transparent;\n",
              "      border-right-color: var(--fill-color);\n",
              "      border-top-color: var(--fill-color);\n",
              "    }\n",
              "    60% {\n",
              "      border-color: transparent;\n",
              "      border-right-color: var(--fill-color);\n",
              "    }\n",
              "    80% {\n",
              "      border-color: transparent;\n",
              "      border-right-color: var(--fill-color);\n",
              "      border-bottom-color: var(--fill-color);\n",
              "    }\n",
              "    90% {\n",
              "      border-color: transparent;\n",
              "      border-bottom-color: var(--fill-color);\n",
              "    }\n",
              "  }\n",
              "</style>\n",
              "\n",
              "  <script>\n",
              "    async function quickchart(key) {\n",
              "      const quickchartButtonEl =\n",
              "        document.querySelector('#' + key + ' button');\n",
              "      quickchartButtonEl.disabled = true;  // To prevent multiple clicks.\n",
              "      quickchartButtonEl.classList.add('colab-df-spinner');\n",
              "      try {\n",
              "        const charts = await google.colab.kernel.invokeFunction(\n",
              "            'suggestCharts', [key], {});\n",
              "      } catch (error) {\n",
              "        console.error('Error during call to suggestCharts:', error);\n",
              "      }\n",
              "      quickchartButtonEl.classList.remove('colab-df-spinner');\n",
              "      quickchartButtonEl.classList.add('colab-df-quickchart-complete');\n",
              "    }\n",
              "    (() => {\n",
              "      let quickchartButtonEl =\n",
              "        document.querySelector('#df-00439d18-a158-4d23-a7cf-d12108f2f530 button');\n",
              "      quickchartButtonEl.style.display =\n",
              "        google.colab.kernel.accessAllowed ? 'block' : 'none';\n",
              "    })();\n",
              "  </script>\n",
              "</div>\n",
              "\n",
              "    </div>\n",
              "  </div>\n"
            ]
          },
          "metadata": {},
          "execution_count": 4
        }
      ]
    },
    {
      "cell_type": "code",
      "source": [
        "df_val.head(5)"
      ],
      "metadata": {
        "colab": {
          "base_uri": "https://localhost:8080/",
          "height": 360
        },
        "id": "q8cGCzN7d4jR",
        "outputId": "2b29dcec-1570-4e54-9e36-a8dc53e9844d"
      },
      "execution_count": null,
      "outputs": [
        {
          "output_type": "execute_result",
          "data": {
            "text/plain": [
              "   Primary key account_opening_date country_code  demog_1 demog_2  \\\n",
              "0      9000001            3/25/2023           IN     56.0     2.0   \n",
              "1      9000002            1/15/2023           IN     55.0     1.0   \n",
              "2      9000003             1/6/2023           IN     55.0     1.0   \n",
              "3      9000004             2/8/2023           IN     55.0     1.0   \n",
              "4      9000005            1/27/2023           IN     55.0     1.0   \n",
              "\n",
              "         income  demog_3 city_tier     occupation demog_4  ...  demog_39  \\\n",
              "0     5L to 10L    101.0    Tier 7  Self_Employed       N  ...         1   \n",
              "1  100001 to 5L    101.0    Tier 5       Salaried       N  ...         1   \n",
              "2  100001 to 5L    101.0    Tier 1          Other       N  ...         1   \n",
              "3  100001 to 5L    101.0    Tier 1          Other       N  ...         1   \n",
              "4  100001 to 5L    101.0    Tier 5          Other       N  ...         1   \n",
              "\n",
              "   email_domain  demog_40  demog_41 others_42 others_43  others_44 others_45  \\\n",
              "0         gmail      High         1       NaN       NaN        NaN       NaN   \n",
              "1         gmail       low         1       NaN       NaN        NaN       NaN   \n",
              "2         gmail       low         1       NaN       NaN        NaN       NaN   \n",
              "3         gmail    medium         1       NaN       0.0        NaN       NaN   \n",
              "4         gmail       low         1       NaN       NaN        NaN       NaN   \n",
              "\n",
              "  demog_42 demog_43  \n",
              "0        1     High  \n",
              "1        1   medium  \n",
              "2        1   medium  \n",
              "3        1     High  \n",
              "4        1     High  \n",
              "\n",
              "[5 rows x 177 columns]"
            ],
            "text/html": [
              "\n",
              "  <div id=\"df-3460a08e-3f79-4216-9f0c-21c20d0ad8bc\" class=\"colab-df-container\">\n",
              "    <div>\n",
              "<style scoped>\n",
              "    .dataframe tbody tr th:only-of-type {\n",
              "        vertical-align: middle;\n",
              "    }\n",
              "\n",
              "    .dataframe tbody tr th {\n",
              "        vertical-align: top;\n",
              "    }\n",
              "\n",
              "    .dataframe thead th {\n",
              "        text-align: right;\n",
              "    }\n",
              "</style>\n",
              "<table border=\"1\" class=\"dataframe\">\n",
              "  <thead>\n",
              "    <tr style=\"text-align: right;\">\n",
              "      <th></th>\n",
              "      <th>Primary key</th>\n",
              "      <th>account_opening_date</th>\n",
              "      <th>country_code</th>\n",
              "      <th>demog_1</th>\n",
              "      <th>demog_2</th>\n",
              "      <th>income</th>\n",
              "      <th>demog_3</th>\n",
              "      <th>city_tier</th>\n",
              "      <th>occupation</th>\n",
              "      <th>demog_4</th>\n",
              "      <th>...</th>\n",
              "      <th>demog_39</th>\n",
              "      <th>email_domain</th>\n",
              "      <th>demog_40</th>\n",
              "      <th>demog_41</th>\n",
              "      <th>others_42</th>\n",
              "      <th>others_43</th>\n",
              "      <th>others_44</th>\n",
              "      <th>others_45</th>\n",
              "      <th>demog_42</th>\n",
              "      <th>demog_43</th>\n",
              "    </tr>\n",
              "  </thead>\n",
              "  <tbody>\n",
              "    <tr>\n",
              "      <th>0</th>\n",
              "      <td>9000001</td>\n",
              "      <td>3/25/2023</td>\n",
              "      <td>IN</td>\n",
              "      <td>56.0</td>\n",
              "      <td>2.0</td>\n",
              "      <td>5L to 10L</td>\n",
              "      <td>101.0</td>\n",
              "      <td>Tier 7</td>\n",
              "      <td>Self_Employed</td>\n",
              "      <td>N</td>\n",
              "      <td>...</td>\n",
              "      <td>1</td>\n",
              "      <td>gmail</td>\n",
              "      <td>High</td>\n",
              "      <td>1</td>\n",
              "      <td>NaN</td>\n",
              "      <td>NaN</td>\n",
              "      <td>NaN</td>\n",
              "      <td>NaN</td>\n",
              "      <td>1</td>\n",
              "      <td>High</td>\n",
              "    </tr>\n",
              "    <tr>\n",
              "      <th>1</th>\n",
              "      <td>9000002</td>\n",
              "      <td>1/15/2023</td>\n",
              "      <td>IN</td>\n",
              "      <td>55.0</td>\n",
              "      <td>1.0</td>\n",
              "      <td>100001 to 5L</td>\n",
              "      <td>101.0</td>\n",
              "      <td>Tier 5</td>\n",
              "      <td>Salaried</td>\n",
              "      <td>N</td>\n",
              "      <td>...</td>\n",
              "      <td>1</td>\n",
              "      <td>gmail</td>\n",
              "      <td>low</td>\n",
              "      <td>1</td>\n",
              "      <td>NaN</td>\n",
              "      <td>NaN</td>\n",
              "      <td>NaN</td>\n",
              "      <td>NaN</td>\n",
              "      <td>1</td>\n",
              "      <td>medium</td>\n",
              "    </tr>\n",
              "    <tr>\n",
              "      <th>2</th>\n",
              "      <td>9000003</td>\n",
              "      <td>1/6/2023</td>\n",
              "      <td>IN</td>\n",
              "      <td>55.0</td>\n",
              "      <td>1.0</td>\n",
              "      <td>100001 to 5L</td>\n",
              "      <td>101.0</td>\n",
              "      <td>Tier 1</td>\n",
              "      <td>Other</td>\n",
              "      <td>N</td>\n",
              "      <td>...</td>\n",
              "      <td>1</td>\n",
              "      <td>gmail</td>\n",
              "      <td>low</td>\n",
              "      <td>1</td>\n",
              "      <td>NaN</td>\n",
              "      <td>NaN</td>\n",
              "      <td>NaN</td>\n",
              "      <td>NaN</td>\n",
              "      <td>1</td>\n",
              "      <td>medium</td>\n",
              "    </tr>\n",
              "    <tr>\n",
              "      <th>3</th>\n",
              "      <td>9000004</td>\n",
              "      <td>2/8/2023</td>\n",
              "      <td>IN</td>\n",
              "      <td>55.0</td>\n",
              "      <td>1.0</td>\n",
              "      <td>100001 to 5L</td>\n",
              "      <td>101.0</td>\n",
              "      <td>Tier 1</td>\n",
              "      <td>Other</td>\n",
              "      <td>N</td>\n",
              "      <td>...</td>\n",
              "      <td>1</td>\n",
              "      <td>gmail</td>\n",
              "      <td>medium</td>\n",
              "      <td>1</td>\n",
              "      <td>NaN</td>\n",
              "      <td>0.0</td>\n",
              "      <td>NaN</td>\n",
              "      <td>NaN</td>\n",
              "      <td>1</td>\n",
              "      <td>High</td>\n",
              "    </tr>\n",
              "    <tr>\n",
              "      <th>4</th>\n",
              "      <td>9000005</td>\n",
              "      <td>1/27/2023</td>\n",
              "      <td>IN</td>\n",
              "      <td>55.0</td>\n",
              "      <td>1.0</td>\n",
              "      <td>100001 to 5L</td>\n",
              "      <td>101.0</td>\n",
              "      <td>Tier 5</td>\n",
              "      <td>Other</td>\n",
              "      <td>N</td>\n",
              "      <td>...</td>\n",
              "      <td>1</td>\n",
              "      <td>gmail</td>\n",
              "      <td>low</td>\n",
              "      <td>1</td>\n",
              "      <td>NaN</td>\n",
              "      <td>NaN</td>\n",
              "      <td>NaN</td>\n",
              "      <td>NaN</td>\n",
              "      <td>1</td>\n",
              "      <td>High</td>\n",
              "    </tr>\n",
              "  </tbody>\n",
              "</table>\n",
              "<p>5 rows × 177 columns</p>\n",
              "</div>\n",
              "    <div class=\"colab-df-buttons\">\n",
              "\n",
              "  <div class=\"colab-df-container\">\n",
              "    <button class=\"colab-df-convert\" onclick=\"convertToInteractive('df-3460a08e-3f79-4216-9f0c-21c20d0ad8bc')\"\n",
              "            title=\"Convert this dataframe to an interactive table.\"\n",
              "            style=\"display:none;\">\n",
              "\n",
              "  <svg xmlns=\"http://www.w3.org/2000/svg\" height=\"24px\" viewBox=\"0 -960 960 960\">\n",
              "    <path d=\"M120-120v-720h720v720H120Zm60-500h600v-160H180v160Zm220 220h160v-160H400v160Zm0 220h160v-160H400v160ZM180-400h160v-160H180v160Zm440 0h160v-160H620v160ZM180-180h160v-160H180v160Zm440 0h160v-160H620v160Z\"/>\n",
              "  </svg>\n",
              "    </button>\n",
              "\n",
              "  <style>\n",
              "    .colab-df-container {\n",
              "      display:flex;\n",
              "      gap: 12px;\n",
              "    }\n",
              "\n",
              "    .colab-df-convert {\n",
              "      background-color: #E8F0FE;\n",
              "      border: none;\n",
              "      border-radius: 50%;\n",
              "      cursor: pointer;\n",
              "      display: none;\n",
              "      fill: #1967D2;\n",
              "      height: 32px;\n",
              "      padding: 0 0 0 0;\n",
              "      width: 32px;\n",
              "    }\n",
              "\n",
              "    .colab-df-convert:hover {\n",
              "      background-color: #E2EBFA;\n",
              "      box-shadow: 0px 1px 2px rgba(60, 64, 67, 0.3), 0px 1px 3px 1px rgba(60, 64, 67, 0.15);\n",
              "      fill: #174EA6;\n",
              "    }\n",
              "\n",
              "    .colab-df-buttons div {\n",
              "      margin-bottom: 4px;\n",
              "    }\n",
              "\n",
              "    [theme=dark] .colab-df-convert {\n",
              "      background-color: #3B4455;\n",
              "      fill: #D2E3FC;\n",
              "    }\n",
              "\n",
              "    [theme=dark] .colab-df-convert:hover {\n",
              "      background-color: #434B5C;\n",
              "      box-shadow: 0px 1px 3px 1px rgba(0, 0, 0, 0.15);\n",
              "      filter: drop-shadow(0px 1px 2px rgba(0, 0, 0, 0.3));\n",
              "      fill: #FFFFFF;\n",
              "    }\n",
              "  </style>\n",
              "\n",
              "    <script>\n",
              "      const buttonEl =\n",
              "        document.querySelector('#df-3460a08e-3f79-4216-9f0c-21c20d0ad8bc button.colab-df-convert');\n",
              "      buttonEl.style.display =\n",
              "        google.colab.kernel.accessAllowed ? 'block' : 'none';\n",
              "\n",
              "      async function convertToInteractive(key) {\n",
              "        const element = document.querySelector('#df-3460a08e-3f79-4216-9f0c-21c20d0ad8bc');\n",
              "        const dataTable =\n",
              "          await google.colab.kernel.invokeFunction('convertToInteractive',\n",
              "                                                    [key], {});\n",
              "        if (!dataTable) return;\n",
              "\n",
              "        const docLinkHtml = 'Like what you see? Visit the ' +\n",
              "          '<a target=\"_blank\" href=https://colab.research.google.com/notebooks/data_table.ipynb>data table notebook</a>'\n",
              "          + ' to learn more about interactive tables.';\n",
              "        element.innerHTML = '';\n",
              "        dataTable['output_type'] = 'display_data';\n",
              "        await google.colab.output.renderOutput(dataTable, element);\n",
              "        const docLink = document.createElement('div');\n",
              "        docLink.innerHTML = docLinkHtml;\n",
              "        element.appendChild(docLink);\n",
              "      }\n",
              "    </script>\n",
              "  </div>\n",
              "\n",
              "\n",
              "<div id=\"df-d23a60f6-cfdb-4c3e-b7d4-889af42794b7\">\n",
              "  <button class=\"colab-df-quickchart\" onclick=\"quickchart('df-d23a60f6-cfdb-4c3e-b7d4-889af42794b7')\"\n",
              "            title=\"Suggest charts\"\n",
              "            style=\"display:none;\">\n",
              "\n",
              "<svg xmlns=\"http://www.w3.org/2000/svg\" height=\"24px\"viewBox=\"0 0 24 24\"\n",
              "     width=\"24px\">\n",
              "    <g>\n",
              "        <path d=\"M19 3H5c-1.1 0-2 .9-2 2v14c0 1.1.9 2 2 2h14c1.1 0 2-.9 2-2V5c0-1.1-.9-2-2-2zM9 17H7v-7h2v7zm4 0h-2V7h2v10zm4 0h-2v-4h2v4z\"/>\n",
              "    </g>\n",
              "</svg>\n",
              "  </button>\n",
              "\n",
              "<style>\n",
              "  .colab-df-quickchart {\n",
              "      --bg-color: #E8F0FE;\n",
              "      --fill-color: #1967D2;\n",
              "      --hover-bg-color: #E2EBFA;\n",
              "      --hover-fill-color: #174EA6;\n",
              "      --disabled-fill-color: #AAA;\n",
              "      --disabled-bg-color: #DDD;\n",
              "  }\n",
              "\n",
              "  [theme=dark] .colab-df-quickchart {\n",
              "      --bg-color: #3B4455;\n",
              "      --fill-color: #D2E3FC;\n",
              "      --hover-bg-color: #434B5C;\n",
              "      --hover-fill-color: #FFFFFF;\n",
              "      --disabled-bg-color: #3B4455;\n",
              "      --disabled-fill-color: #666;\n",
              "  }\n",
              "\n",
              "  .colab-df-quickchart {\n",
              "    background-color: var(--bg-color);\n",
              "    border: none;\n",
              "    border-radius: 50%;\n",
              "    cursor: pointer;\n",
              "    display: none;\n",
              "    fill: var(--fill-color);\n",
              "    height: 32px;\n",
              "    padding: 0;\n",
              "    width: 32px;\n",
              "  }\n",
              "\n",
              "  .colab-df-quickchart:hover {\n",
              "    background-color: var(--hover-bg-color);\n",
              "    box-shadow: 0 1px 2px rgba(60, 64, 67, 0.3), 0 1px 3px 1px rgba(60, 64, 67, 0.15);\n",
              "    fill: var(--button-hover-fill-color);\n",
              "  }\n",
              "\n",
              "  .colab-df-quickchart-complete:disabled,\n",
              "  .colab-df-quickchart-complete:disabled:hover {\n",
              "    background-color: var(--disabled-bg-color);\n",
              "    fill: var(--disabled-fill-color);\n",
              "    box-shadow: none;\n",
              "  }\n",
              "\n",
              "  .colab-df-spinner {\n",
              "    border: 2px solid var(--fill-color);\n",
              "    border-color: transparent;\n",
              "    border-bottom-color: var(--fill-color);\n",
              "    animation:\n",
              "      spin 1s steps(1) infinite;\n",
              "  }\n",
              "\n",
              "  @keyframes spin {\n",
              "    0% {\n",
              "      border-color: transparent;\n",
              "      border-bottom-color: var(--fill-color);\n",
              "      border-left-color: var(--fill-color);\n",
              "    }\n",
              "    20% {\n",
              "      border-color: transparent;\n",
              "      border-left-color: var(--fill-color);\n",
              "      border-top-color: var(--fill-color);\n",
              "    }\n",
              "    30% {\n",
              "      border-color: transparent;\n",
              "      border-left-color: var(--fill-color);\n",
              "      border-top-color: var(--fill-color);\n",
              "      border-right-color: var(--fill-color);\n",
              "    }\n",
              "    40% {\n",
              "      border-color: transparent;\n",
              "      border-right-color: var(--fill-color);\n",
              "      border-top-color: var(--fill-color);\n",
              "    }\n",
              "    60% {\n",
              "      border-color: transparent;\n",
              "      border-right-color: var(--fill-color);\n",
              "    }\n",
              "    80% {\n",
              "      border-color: transparent;\n",
              "      border-right-color: var(--fill-color);\n",
              "      border-bottom-color: var(--fill-color);\n",
              "    }\n",
              "    90% {\n",
              "      border-color: transparent;\n",
              "      border-bottom-color: var(--fill-color);\n",
              "    }\n",
              "  }\n",
              "</style>\n",
              "\n",
              "  <script>\n",
              "    async function quickchart(key) {\n",
              "      const quickchartButtonEl =\n",
              "        document.querySelector('#' + key + ' button');\n",
              "      quickchartButtonEl.disabled = true;  // To prevent multiple clicks.\n",
              "      quickchartButtonEl.classList.add('colab-df-spinner');\n",
              "      try {\n",
              "        const charts = await google.colab.kernel.invokeFunction(\n",
              "            'suggestCharts', [key], {});\n",
              "      } catch (error) {\n",
              "        console.error('Error during call to suggestCharts:', error);\n",
              "      }\n",
              "      quickchartButtonEl.classList.remove('colab-df-spinner');\n",
              "      quickchartButtonEl.classList.add('colab-df-quickchart-complete');\n",
              "    }\n",
              "    (() => {\n",
              "      let quickchartButtonEl =\n",
              "        document.querySelector('#df-d23a60f6-cfdb-4c3e-b7d4-889af42794b7 button');\n",
              "      quickchartButtonEl.style.display =\n",
              "        google.colab.kernel.accessAllowed ? 'block' : 'none';\n",
              "    })();\n",
              "  </script>\n",
              "</div>\n",
              "\n",
              "    </div>\n",
              "  </div>\n"
            ]
          },
          "metadata": {},
          "execution_count": 5
        }
      ]
    },
    {
      "cell_type": "code",
      "source": [
        "unique_value_counts_df_main = df.nunique()\n",
        "columns_with_nunique_1 = unique_value_counts_df_main[unique_value_counts_df_main == 1].index.tolist()\n",
        "# List of columns to be removed\n",
        "columns_to_remove = ['demog_7', 'demog_10', 'demog_12', 'txn_35', 'txn_36', 'txn_49', 'txn_50', 'txn_65', 'txn_70', 'txn_71', 'txn_72', 'demog_38','others_42','others_43','others_44','others_45','country_code','os','demog_22','txn_37', 'txn_55', 'txn_61', 'txn_62', 'txn_66', 'others_3', 'others_17', 'others_19', 'others_20', 'others_29', 'others_30', 'others_31', 'others_32', 'others_40', 'others_41']\n",
        "\n",
        "# Remove columns from the original DataFrame\n",
        "df = df.drop(columns=columns_to_remove)\n",
        "\n",
        "# code of conversion from date to numeric data\n",
        "df['account_opening_date'] = pd.to_datetime(df['account_opening_date'], format='%m/%d/%Y')\n",
        "\n",
        "# Extract day, month, and year into new columns\n",
        "df['opening_day'] = df['account_opening_date'].dt.day\n",
        "df['opening_month'] = df['account_opening_date'].dt.month\n",
        "df['opening_year'] = df['account_opening_date'].dt.year\n",
        "\n",
        "# Drop the original 'account_opening_date' column\n",
        "df = df.drop('account_opening_date', axis=1)\n",
        "\n",
        "# Deleting rows\n",
        "df = df.dropna(subset=['occupation'])\n",
        "# Resetting the index after dropping rows\n",
        "df.reset_index(drop=True, inplace=True)\n",
        "df = df.dropna(subset=['city_tier'])\n",
        "# Resetting the index after dropping rows\n",
        "df.reset_index(drop=True, inplace=True)\n",
        "# Filter rows where 'demog_2' column has 'ZZ' value and indices are in the specified list\n",
        "rows_to_delete = df[df['demog_2'] == 'ZZ']\n",
        "\n",
        "# Delete the filtered rows from the DataFrame\n",
        "df.drop(rows_to_delete.index, inplace=True)\n",
        "\n",
        "# Replace missing values in 'income' column with '100001 to 5L' where 'Target' is equal to 1\n",
        "# df.loc[df['Target'] == 1, 'income'].fillna('100001 to 5L', inplace=True)\n",
        "\n",
        "# Set missing values in 'demog_40' column to 'High' where 'Target' is equal to 1\n",
        "df.loc[df['Target'] == 1, 'demog_40'].fillna('High', inplace=True)\n",
        "\n",
        "#Filling the missing value of demog_4 column\n",
        "df['demog_4'].fillna('N', inplace=True)\n",
        "\n",
        "# Create a binary column indicating the presence of 'N'\n",
        "df['is_N'] = df['demog_4'].apply(lambda x: 1 if x == 'N' else 0)\n",
        "\n",
        "# Create a new numeric column for the numeric values\n",
        "df['numeric_values_demog_4'] = pd.to_numeric(df['demog_4'], errors='coerce')\n",
        "\n",
        "# Fill 0 where 'N' was present\n",
        "df['numeric_values_demog_4'].fillna(0, inplace=True)\n",
        "df = df.drop(columns=['demog_4'])\n",
        "\n",
        "df['income'].fillna('100001 to 5L', inplace=True)"
      ],
      "metadata": {
        "id": "z9EUqFNnOElz",
        "colab": {
          "base_uri": "https://localhost:8080/"
        },
        "outputId": "95bc64e8-4d29-4dcc-e732-91b7641c25f0"
      },
      "execution_count": null,
      "outputs": [
        {
          "output_type": "stream",
          "name": "stderr",
          "text": [
            "<ipython-input-6-2ca0d4d7e354>:31: SettingWithCopyWarning: \n",
            "A value is trying to be set on a copy of a slice from a DataFrame\n",
            "\n",
            "See the caveats in the documentation: https://pandas.pydata.org/pandas-docs/stable/user_guide/indexing.html#returning-a-view-versus-a-copy\n",
            "  df.drop(rows_to_delete.index, inplace=True)\n",
            "<ipython-input-6-2ca0d4d7e354>:40: SettingWithCopyWarning: \n",
            "A value is trying to be set on a copy of a slice from a DataFrame\n",
            "\n",
            "See the caveats in the documentation: https://pandas.pydata.org/pandas-docs/stable/user_guide/indexing.html#returning-a-view-versus-a-copy\n",
            "  df['demog_4'].fillna('N', inplace=True)\n",
            "<ipython-input-6-2ca0d4d7e354>:43: SettingWithCopyWarning: \n",
            "A value is trying to be set on a copy of a slice from a DataFrame.\n",
            "Try using .loc[row_indexer,col_indexer] = value instead\n",
            "\n",
            "See the caveats in the documentation: https://pandas.pydata.org/pandas-docs/stable/user_guide/indexing.html#returning-a-view-versus-a-copy\n",
            "  df['is_N'] = df['demog_4'].apply(lambda x: 1 if x == 'N' else 0)\n"
          ]
        }
      ]
    },
    {
      "cell_type": "code",
      "source": [
        "unique_value_counts_df_val_main = df_val.nunique()\n",
        "columns_with_nunique_1 = unique_value_counts_df_val_main[unique_value_counts_df_val_main == 1].index.tolist()\n",
        "# List of columns to be removed\n",
        "columns_to_remove = ['demog_7', 'demog_10', 'demog_12', 'txn_35', 'txn_36', 'txn_49', 'txn_50', 'txn_65', 'txn_70', 'txn_71', 'txn_72', 'demog_38','others_42','others_43','others_44','others_45','country_code','os','demog_22','txn_37', 'txn_55', 'txn_61', 'txn_62', 'txn_66', 'others_3', 'others_17', 'others_19', 'others_20', 'others_29', 'others_30', 'others_31', 'others_32', 'others_40', 'others_41']\n",
        "\n",
        "# Remove columns from the original DataFrame\n",
        "df_val = df_val.drop(columns=columns_to_remove)\n",
        "\n",
        "# code of conversion from date to numeric data\n",
        "df_val['account_opening_date'] = pd.to_datetime(df_val['account_opening_date'], format='%m/%d/%Y')\n",
        "\n",
        "# Extract day, month, and year into new columns\n",
        "df_val['opening_day'] = df_val['account_opening_date'].dt.day\n",
        "df_val['opening_month'] = df_val['account_opening_date'].dt.month\n",
        "df_val['opening_year'] = df_val['account_opening_date'].dt.year\n",
        "\n",
        "# Drop the original 'account_opening_date' column\n",
        "df_val = df_val.drop('account_opening_date', axis=1)\n",
        "\n",
        "# Deleting rows\n",
        "df_val = df_val.dropna(subset=['occupation'])\n",
        "# Resetting the index after dropping rows\n",
        "df_val.reset_index(drop=True, inplace=True)\n",
        "df_val = df_val.dropna(subset=['city_tier'])\n",
        "# Resetting the index after dropping rows\n",
        "df_val.reset_index(drop=True, inplace=True)\n",
        "# Filter rows where 'demog_2' column has 'ZZ' value and indices are in the specified list\n",
        "rows_to_delete = df_val[df_val['demog_2'] == 'ZZ']\n",
        "\n",
        "# Delete the filtered rows from the DataFrame\n",
        "df_val.drop(rows_to_delete.index, inplace=True)\n",
        "\n",
        "# Replace missing values in 'income' column with '100001 to 5L' where 'Target' is equal to 1\n",
        "# df_val.loc[df_val['Target'] == 1, 'income'].fillna('100001 to 5L', inplace=True)\n",
        "\n",
        "# Set missing values in 'demog_40' column to 'High' where 'Target' is equal to 1\n",
        "df_val['demog_40'].fillna('High', inplace=True)\n",
        "\n",
        "#Filling the missing value of demog_4 column\n",
        "df_val['demog_4'].fillna('N', inplace=True)\n",
        "\n",
        "# Create a binary column indicating the presence of 'N'\n",
        "df_val['is_N'] = df_val['demog_4'].apply(lambda x: 1 if x == 'N' else 0)\n",
        "\n",
        "# Create a new numeric column for the numeric values\n",
        "df_val['numeric_values_demog_4'] = pd.to_numeric(df_val['demog_4'], errors='coerce')\n",
        "\n",
        "# Fill 0 where 'N' was present\n",
        "df_val['numeric_values_demog_4'].fillna(0, inplace=True)\n",
        "df_val = df_val.drop(columns=['demog_4'])\n",
        "\n",
        "df_val['income'].fillna('100001 to 5L', inplace=True)"
      ],
      "metadata": {
        "id": "Dm0XUj41ePeN"
      },
      "execution_count": null,
      "outputs": []
    },
    {
      "cell_type": "code",
      "source": [
        "# Assuming df is your DataFrame\n",
        "\n",
        "\n",
        "# Fill missing values in 'demog_13' column with True\n",
        "df.loc[:, 'demog_13'].fillna(True, inplace=True)\n",
        "df['demog_13'] = df['demog_13'].astype(bool)\n",
        "\n",
        "# Fill missing values in 'demog_14' column with False\n",
        "df.loc[:, 'demog_14'].fillna(False, inplace=True)\n",
        "df['demog_14'] = df['demog_14'].astype(bool)\n",
        "\n",
        "# Fill missing values in 'demog_15' column with True\n",
        "df.loc[:, 'demog_15'].fillna(True, inplace=True)\n",
        "df['demog_15'] = df['demog_15'].astype(bool)\n",
        "\n",
        "# Fill missing values in 'demog_16' column with True\n",
        "df.loc[:, 'demog_16'].fillna(True, inplace=True)\n",
        "df['demog_16'] = df['demog_16'].astype(bool)\n",
        "\n",
        "# Fill missing values in 'demog_9' column with False\n",
        "df.loc[:, 'demog_9'].fillna(False, inplace=True)\n",
        "df['demog_9'] = df['demog_9'].astype(bool)\n",
        "\n",
        "# Fill missing values in 'demog_17' column with True\n",
        "df.loc[:, 'demog_17'].fillna(True, inplace=True)\n",
        "df['demog_17'] = df['demog_17'].astype(bool)\n",
        "\n",
        "# Fill missing values in 'demog_18' column with False\n",
        "df.loc[:, 'demog_18'].fillna(False, inplace=True)\n",
        "df['demog_18'] = df['demog_18'].astype(bool)\n",
        "\n",
        "# Fill missing values in 'demog_19' column with True\n",
        "df.loc[:, 'demog_19'].fillna(True, inplace=True)\n",
        "df['demog_19'] = df['demog_19'].astype(bool)\n",
        "\n",
        "# Fill missing values in 'demog_20' column with False\n",
        "df.loc[:, 'demog_20'].fillna(False, inplace=True)\n",
        "df['demog_20'] = df['demog_20'].astype(bool)\n",
        "\n",
        "# Fill missing values in 'demog_21' column with False\n",
        "df.loc[:, 'demog_21'].fillna(False, inplace=True)\n",
        "df['demog_21'] = df['demog_21'].astype(bool)\n",
        "\n",
        "df['demog_2'].fillna(1.0, inplace=True)\n",
        "\n",
        "boolean_columns = ['demog_17', 'demog_18', 'demog_19', 'demog_20', 'demog_21','demog_9','demog_13','demog_14','demog_15','demog_16']\n",
        "\n",
        "# Convert boolean columns to numerical values (0 for False, 1 for True)\n",
        "df[boolean_columns] = df[boolean_columns].astype(int)\n",
        "\n",
        "df['demog_30'].fillna(0, inplace=True)\n",
        "df['demog_31'].fillna(0, inplace=True)\n",
        "df['demog_32'].fillna(0, inplace=True)\n",
        "df['demog_33'].fillna(1, inplace=True)\n",
        "df['demog_34'].fillna(1, inplace=True)\n",
        "df['demog_35'].fillna(0, inplace=True)\n",
        "df['demog_36'].fillna(0, inplace=True)\n",
        "df['demog_37'].fillna(0, inplace=True)\n",
        "df['demog_3'].fillna(101, inplace=True)"
      ],
      "metadata": {
        "id": "R9oi87c05e2F"
      },
      "execution_count": null,
      "outputs": []
    },
    {
      "cell_type": "code",
      "source": [
        "# Assuming df_val is your DataFrame\n",
        "\n",
        "\n",
        "# Fill missing values in 'demog_13' column with True\n",
        "df_val.loc[:, 'demog_13'].fillna(True, inplace=True)\n",
        "df_val['demog_13'] = df_val['demog_13'].astype(bool)\n",
        "\n",
        "# Fill missing values in 'demog_14' column with False\n",
        "df_val.loc[:, 'demog_14'].fillna(False, inplace=True)\n",
        "df_val['demog_14'] = df_val['demog_14'].astype(bool)\n",
        "\n",
        "# Fill missing values in 'demog_15' column with True\n",
        "df_val.loc[:, 'demog_15'].fillna(True, inplace=True)\n",
        "df_val['demog_15'] = df_val['demog_15'].astype(bool)\n",
        "\n",
        "# Fill missing values in 'demog_16' column with True\n",
        "df_val.loc[:, 'demog_16'].fillna(True, inplace=True)\n",
        "df_val['demog_16'] = df_val['demog_16'].astype(bool)\n",
        "\n",
        "# Fill missing values in 'demog_9' column with False\n",
        "df_val.loc[:, 'demog_9'].fillna(False, inplace=True)\n",
        "df_val['demog_9'] = df_val['demog_9'].astype(bool)\n",
        "\n",
        "# Fill missing values in 'demog_17' column with True\n",
        "df_val.loc[:, 'demog_17'].fillna(True, inplace=True)\n",
        "df_val['demog_17'] = df_val['demog_17'].astype(bool)\n",
        "\n",
        "# Fill missing values in 'demog_18' column with False\n",
        "df_val.loc[:, 'demog_18'].fillna(False, inplace=True)\n",
        "df_val['demog_18'] = df_val['demog_18'].astype(bool)\n",
        "\n",
        "# Fill missing values in 'demog_19' column with True\n",
        "df_val.loc[:, 'demog_19'].fillna(True, inplace=True)\n",
        "df_val['demog_19'] = df_val['demog_19'].astype(bool)\n",
        "\n",
        "# Fill missing values in 'demog_20' column with False\n",
        "df_val.loc[:, 'demog_20'].fillna(False, inplace=True)\n",
        "df_val['demog_20'] = df_val['demog_20'].astype(bool)\n",
        "\n",
        "# Fill missing values in 'demog_21' column with False\n",
        "df_val.loc[:, 'demog_21'].fillna(False, inplace=True)\n",
        "df_val['demog_21'] = df_val['demog_21'].astype(bool)\n",
        "\n",
        "df_val['demog_2'].fillna(1.0, inplace=True)\n",
        "\n",
        "boolean_columns = ['demog_17', 'demog_18', 'demog_19', 'demog_20', 'demog_21','demog_9','demog_13','demog_14','demog_15','demog_16']\n",
        "\n",
        "# Convert boolean columns to numerical values (0 for False, 1 for True)\n",
        "df_val[boolean_columns] = df_val[boolean_columns].astype(int)\n",
        "\n",
        "df_val['demog_30'].fillna(0, inplace=True)\n",
        "df_val['demog_31'].fillna(0, inplace=True)\n",
        "df_val['demog_32'].fillna(0, inplace=True)\n",
        "df_val['demog_33'].fillna(1, inplace=True)\n",
        "df_val['demog_34'].fillna(1, inplace=True)\n",
        "df_val['demog_35'].fillna(0, inplace=True)\n",
        "df_val['demog_36'].fillna(0, inplace=True)\n",
        "df_val['demog_37'].fillna(0, inplace=True)\n",
        "df_val['demog_3'].fillna(101, inplace=True)"
      ],
      "metadata": {
        "id": "h78NW2NufA7N"
      },
      "execution_count": null,
      "outputs": []
    },
    {
      "cell_type": "code",
      "source": [],
      "metadata": {
        "id": "g0fyjEA0NQ5-"
      },
      "execution_count": null,
      "outputs": []
    },
    {
      "cell_type": "code",
      "source": [
        "def find_rows_with_missing_values(df, column_name):\n",
        "    rows_with_missing_values = df[df[column_name].isna()]\n",
        "    return rows_with_missing_values.index"
      ],
      "metadata": {
        "id": "WiL9842FNQ8X"
      },
      "execution_count": null,
      "outputs": []
    },
    {
      "cell_type": "code",
      "source": [
        "from sklearn.impute import SimpleImputer\n",
        "\n",
        "# Assuming df is your DataFrame\n",
        "# Create an instance of SimpleImputer with strategy='most_frequent'\n",
        "imputer = SimpleImputer(strategy='most_frequent')\n",
        "\n",
        "df['demog_40'] = imputer.fit_transform(df[['demog_40']])\n",
        "df['demog_43'] = imputer.fit_transform(df[['demog_43']])\n",
        "df['demog_8'] = imputer.fit_transform(df[['demog_8']])\n",
        "# If you have multiple columns with missing values, you can use the following\n",
        "# df = pd.DataFrame(imputer.fit_transform(df), columns=df.columns)"
      ],
      "metadata": {
        "id": "1ICLAFCoNQ_D"
      },
      "execution_count": null,
      "outputs": []
    },
    {
      "cell_type": "code",
      "source": [
        "from sklearn.impute import SimpleImputer\n",
        "\n",
        "# Assuming df_val is your DataFrame\n",
        "# Create an instance of SimpleImputer with strategy='most_frequent'\n",
        "imputer = SimpleImputer(strategy='most_frequent')\n",
        "\n",
        "df_val['demog_40'] = imputer.fit_transform(df_val[['demog_40']])\n",
        "df_val['demog_43'] = imputer.fit_transform(df_val[['demog_43']])\n",
        "df_val['demog_8'] = imputer.fit_transform(df_val[['demog_8']])\n",
        "# If you have multiple columns with missing values, you can use the following\n",
        "# df_val = pd.DataFrame(imputer.fit_transform(df_val), columns=df_val.columns)"
      ],
      "metadata": {
        "id": "xxt0xxLifZl7"
      },
      "execution_count": null,
      "outputs": []
    },
    {
      "cell_type": "code",
      "source": [
        "column_names = df.columns.tolist()"
      ],
      "metadata": {
        "id": "D3kTGZBT3e1j"
      },
      "execution_count": null,
      "outputs": []
    },
    {
      "cell_type": "code",
      "source": [
        "column_names_val = df_val.columns.tolist()"
      ],
      "metadata": {
        "id": "69UrXZbTfite"
      },
      "execution_count": null,
      "outputs": []
    },
    {
      "cell_type": "code",
      "source": [
        "def analyze_column(df, column_name):\n",
        "    # Value counts where 'Target' is 0\n",
        "    value_counts_target_0 = df[df['Target'] == 0][column_name].value_counts()\n",
        "\n",
        "    # Value counts where 'Target' is 1\n",
        "    value_counts_target_1 = df[df['Target'] == 1][column_name].value_counts()\n",
        "\n",
        "    # Null values where 'Target' is 0\n",
        "    null_values_target_0 = df[df['Target'] == 0][column_name].isnull().sum()\n",
        "\n",
        "    # Null values where 'Target' is 1\n",
        "    null_values_target_1 = df[df['Target'] == 1][column_name].isnull().sum()\n",
        "\n",
        "    return value_counts_target_0, value_counts_target_1, null_values_target_0, null_values_target_1"
      ],
      "metadata": {
        "id": "C-pRiLXdR5oV"
      },
      "execution_count": null,
      "outputs": []
    },
    {
      "cell_type": "code",
      "source": [
        "from sklearn.impute import KNNImputer\n",
        "\n",
        "# Assuming df is your DataFrame\n",
        "# Extract the relevant columns for imputation\n",
        "impute_columns = ['demog_24','demog_26','demog_1']\n",
        "# Create a copy of the DataFrame to avoid modifying the original data\n",
        "df_impute = df.copy()\n",
        "\n",
        "# Initialize the KNNImputer\n",
        "knn_imputer = KNNImputer(n_neighbors=5)  # You can adjust the number of neighbors as needed\n",
        "\n",
        "# Perform imputation on the selected columns\n",
        "df_impute[impute_columns] = knn_imputer.fit_transform(df_impute[impute_columns])\n",
        "\n",
        "# Update the original DataFrame with the imputed values\n",
        "df[impute_columns] = df_impute[impute_columns]"
      ],
      "metadata": {
        "id": "B-VfLKodbO9b"
      },
      "execution_count": null,
      "outputs": []
    },
    {
      "cell_type": "code",
      "source": [
        "from sklearn.impute import KNNImputer\n",
        "\n",
        "# Assuming df_val is your DataFrame\n",
        "# Extract the relevant columns for imputation\n",
        "impute_columns = ['demog_24','demog_26','demog_1']\n",
        "# Create a copy of the DataFrame to avoid modifying the original data\n",
        "df_val_impute = df_val.copy()\n",
        "\n",
        "# Initialize the KNNImputer\n",
        "knn_imputer = KNNImputer(n_neighbors=5)  # You can adjust the number of neighbors as needed\n",
        "\n",
        "# Perform imputation on the selected columns\n",
        "df_val_impute[impute_columns] = knn_imputer.fit_transform(df_val_impute[impute_columns])\n",
        "\n",
        "# Update the original DataFrame with the imputed values\n",
        "df_val[impute_columns] = df_val_impute[impute_columns]"
      ],
      "metadata": {
        "id": "lAh8U8odfpe_"
      },
      "execution_count": null,
      "outputs": []
    },
    {
      "cell_type": "code",
      "source": [
        "# Extract the relevant columns for imputation\n",
        "impute_columns1 = ['demog_5']\n",
        "\n",
        "# Create a copy of the DataFrame to avoid modifying the original data\n",
        "df_impute1 = df.copy()\n",
        "\n",
        "# Initialize the KNNImputer\n",
        "knn_imputer1 = KNNImputer(n_neighbors=1)\n",
        "\n",
        "# Perform imputation on the selected columns\n",
        "df_impute1[impute_columns1] = knn_imputer1.fit_transform(df_impute1[impute_columns1])\n",
        "\n",
        "# Update the original DataFrame with the imputed values\n",
        "df[impute_columns1] = df_impute1[impute_columns1]"
      ],
      "metadata": {
        "id": "nVM-wQy9iQRd"
      },
      "execution_count": null,
      "outputs": []
    },
    {
      "cell_type": "code",
      "source": [
        "# Extract the relevant columns for imputation\n",
        "impute_columns1 = ['demog_5']\n",
        "\n",
        "# Create a copy of the DataFrame to avoid modifying the original data\n",
        "df_val_impute1 = df_val.copy()\n",
        "\n",
        "# Initialize the KNNImputer\n",
        "knn_imputer1 = KNNImputer(n_neighbors=1)\n",
        "\n",
        "# Perform imputation on the selected columns\n",
        "df_val_impute1[impute_columns1] = knn_imputer1.fit_transform(df_val_impute1[impute_columns1])\n",
        "\n",
        "# Update the original DataFrame with the imputed values\n",
        "df_val[impute_columns1] = df_val_impute1[impute_columns1]"
      ],
      "metadata": {
        "id": "qYT9fmzdf7Cs"
      },
      "execution_count": null,
      "outputs": []
    },
    {
      "cell_type": "code",
      "source": [
        "demog_prefix = 'demog_'\n",
        "txn_prefix = 'txn_'\n",
        "others_prefix = 'others_'\n",
        "\n",
        "# Identify columns with demographic attributes\n",
        "demog_columns = [col for col in df.columns if col.startswith(demog_prefix)]\n",
        "df_demog = df[demog_columns]\n",
        "\n",
        "# Identify columns with transaction attributes\n",
        "txn_columns = [col for col in df.columns if col.startswith(txn_prefix)]\n",
        "df_tx = df[txn_columns]\n",
        "\n",
        "# Identify columns with other attributes\n",
        "others_columns = [col for col in df.columns if col.startswith(others_prefix)]\n",
        "df_others = df[others_columns]\n",
        "\n",
        "df_object = df.select_dtypes(include=['object'])\n",
        "\n",
        "# Making column list of all different dataframes\n",
        "df_tx_column_names_list = df_tx.columns.tolist()\n",
        "df_demog_column_names_list = df_demog.columns.tolist()\n",
        "df_others_column_names_list = df_others.columns.tolist()\n",
        "column_names_of_df_object = df_object.columns.tolist()"
      ],
      "metadata": {
        "id": "-c692BYWWQya"
      },
      "execution_count": null,
      "outputs": []
    },
    {
      "cell_type": "code",
      "source": [
        "demog_prefix = 'demog_'\n",
        "txn_prefix = 'txn_'\n",
        "others_prefix = 'others_'\n",
        "\n",
        "# Identify columns with demographic attributes\n",
        "demog_columns = [col for col in df_val.columns if col.startswith(demog_prefix)]\n",
        "df_val_demog = df_val[demog_columns]\n",
        "\n",
        "# Identify columns with transaction attributes\n",
        "txn_columns = [col for col in df_val.columns if col.startswith(txn_prefix)]\n",
        "df_val_tx = df_val[txn_columns]\n",
        "\n",
        "# Identify columns with other attributes\n",
        "others_columns = [col for col in df_val.columns if col.startswith(others_prefix)]\n",
        "df_val_others = df_val[others_columns]\n",
        "\n",
        "df_val_object = df_val.select_dtypes(include=['object'])\n",
        "\n",
        "# Making column list of all different dataframes\n",
        "df_val_tx_column_names_list = df_val_tx.columns.tolist()\n",
        "df_val_demog_column_names_list = df_val_demog.columns.tolist()\n",
        "df_val_others_column_names_list = df_val_others.columns.tolist()\n",
        "column_names_of_df_val_object = df_val_object.columns.tolist()"
      ],
      "metadata": {
        "id": "-b1ZnCRQgM1A"
      },
      "execution_count": null,
      "outputs": []
    },
    {
      "cell_type": "code",
      "source": [
        "# List of columns to exclude with object data type\n",
        "exclude_columns = ['account_opening_date', 'country_code', 'demog_2', 'income', 'city_tier', 'occupation',\n",
        "                   'demog_4', 'demog_17', 'demog_18', 'demog_19', 'demog_20', 'demog_21', 'demog_22',\n",
        "                   'os', 'email_domain', 'demog_40', 'demog_43']\n",
        "\n",
        "# Select only numerical columns by excluding the specified columns\n",
        "numerical_df = df.select_dtypes(include=['number']).drop(columns=exclude_columns, errors='ignore')"
      ],
      "metadata": {
        "id": "AAmLZmhs70B9"
      },
      "execution_count": null,
      "outputs": []
    },
    {
      "cell_type": "code",
      "source": [
        "target_counts = df['Target'].value_counts()\n",
        "target_counts"
      ],
      "metadata": {
        "colab": {
          "base_uri": "https://localhost:8080/"
        },
        "id": "hQeQ6IaUI8_p",
        "outputId": "71545ec8-fb0e-498c-8a6d-f770e4bca49a"
      },
      "execution_count": null,
      "outputs": [
        {
          "output_type": "execute_result",
          "data": {
            "text/plain": [
              "0    93747\n",
              "1     1999\n",
              "Name: Target, dtype: int64"
            ]
          },
          "metadata": {},
          "execution_count": 23
        }
      ]
    },
    {
      "cell_type": "code",
      "source": [
        "unique_value_counts = df_tx.nunique()"
      ],
      "metadata": {
        "id": "YDeYO9WDJJZp"
      },
      "execution_count": null,
      "outputs": []
    },
    {
      "cell_type": "code",
      "source": [
        "unique_value_counts"
      ],
      "metadata": {
        "colab": {
          "base_uri": "https://localhost:8080/"
        },
        "id": "1FvKPMaaKRkz",
        "outputId": "ed4b19c7-e61d-4fc0-ab2e-0b1f4a8aa6df"
      },
      "execution_count": null,
      "outputs": [
        {
          "output_type": "execute_result",
          "data": {
            "text/plain": [
              "txn_1      63\n",
              "txn_2      88\n",
              "txn_3      50\n",
              "txn_4      74\n",
              "txn_5     303\n",
              "         ... \n",
              "txn_77     90\n",
              "txn_78     30\n",
              "txn_79     90\n",
              "txn_80    799\n",
              "txn_81    344\n",
              "Length: 68, dtype: int64"
            ]
          },
          "metadata": {},
          "execution_count": 25
        }
      ]
    },
    {
      "cell_type": "code",
      "source": [
        "distinct_values_counts_details = df_tx.apply(lambda x: pd.Series({'Distinct Values': x.value_counts().index.tolist(), 'Count': x.value_counts().tolist()})).T"
      ],
      "metadata": {
        "id": "G71jxbgjKWdN"
      },
      "execution_count": null,
      "outputs": []
    },
    {
      "cell_type": "code",
      "source": [
        "df.info()"
      ],
      "metadata": {
        "colab": {
          "base_uri": "https://localhost:8080/"
        },
        "id": "0MZWNWpSKpLg",
        "outputId": "919125d5-fc28-4406-afd6-06d5ea7eefaa"
      },
      "execution_count": null,
      "outputs": [
        {
          "output_type": "stream",
          "name": "stdout",
          "text": [
            "<class 'pandas.core.frame.DataFrame'>\n",
            "Int64Index: 95746 entries, 0 to 95748\n",
            "Columns: 147 entries, Primary key to numeric_values_demog_4\n",
            "dtypes: float64(108), int64(32), object(7)\n",
            "memory usage: 108.1+ MB\n"
          ]
        }
      ]
    },
    {
      "cell_type": "code",
      "source": [
        "data_types = df.dtypes"
      ],
      "metadata": {
        "id": "-Z5PjgKFLjJv"
      },
      "execution_count": null,
      "outputs": []
    },
    {
      "cell_type": "code",
      "source": [
        "data_types.value_counts()"
      ],
      "metadata": {
        "colab": {
          "base_uri": "https://localhost:8080/"
        },
        "id": "l9-uYyAtL3Cr",
        "outputId": "cbd563da-6f62-4a75-e66b-a75c08a53153"
      },
      "execution_count": null,
      "outputs": [
        {
          "output_type": "execute_result",
          "data": {
            "text/plain": [
              "float64    108\n",
              "int64       32\n",
              "object       7\n",
              "dtype: int64"
            ]
          },
          "metadata": {},
          "execution_count": 29
        }
      ]
    },
    {
      "cell_type": "code",
      "source": [
        "df_object = df.select_dtypes(include=['object'])\n",
        "\n",
        "# Print or use the new DataFrame\n",
        "print(\"New DataFrame with 'object' Data Type Columns:\")\n",
        "df_object"
      ],
      "metadata": {
        "colab": {
          "base_uri": "https://localhost:8080/",
          "height": 441
        },
        "id": "Uomm6kHUL4by",
        "outputId": "3e11aab5-0e1c-40ee-ae10-bdc502f1e566"
      },
      "execution_count": null,
      "outputs": [
        {
          "output_type": "stream",
          "name": "stdout",
          "text": [
            "New DataFrame with 'object' Data Type Columns:\n"
          ]
        },
        {
          "output_type": "execute_result",
          "data": {
            "text/plain": [
              "      demog_2        income city_tier     occupation email_domain demog_40  \\\n",
              "0         3.0  100001 to 5L     Rural  Self_Employed        gmail      low   \n",
              "1         1.0       0 to 1L    Tier 1       Salaried        gmail     High   \n",
              "2         3.0       0 to 1L    Tier 2  Self_Employed        gmail   medium   \n",
              "3         3.0  100001 to 5L    Tier 7  Self_Employed        gmail     High   \n",
              "4         6.0       0 to 1L    Tier 1        Student        gmail      low   \n",
              "...       ...           ...       ...            ...          ...      ...   \n",
              "95744       2       0 to 1L     Rural  Self_Employed        gmail     High   \n",
              "95745       6  100001 to 5L     Rural        Student        gmail      low   \n",
              "95746       1  100001 to 5L    Tier 6       Salaried        gmail     High   \n",
              "95747       1     5L to 10L    Tier 1          Other        gmail     High   \n",
              "95748       2     5L to 10L    Tier 7  Self_Employed        gmail   medium   \n",
              "\n",
              "      demog_43  \n",
              "0       medium  \n",
              "1         High  \n",
              "2         High  \n",
              "3         High  \n",
              "4       medium  \n",
              "...        ...  \n",
              "95744     High  \n",
              "95745   medium  \n",
              "95746   medium  \n",
              "95747     High  \n",
              "95748   medium  \n",
              "\n",
              "[95746 rows x 7 columns]"
            ],
            "text/html": [
              "\n",
              "  <div id=\"df-c9bc2e42-2a02-4012-8434-790c69478088\" class=\"colab-df-container\">\n",
              "    <div>\n",
              "<style scoped>\n",
              "    .dataframe tbody tr th:only-of-type {\n",
              "        vertical-align: middle;\n",
              "    }\n",
              "\n",
              "    .dataframe tbody tr th {\n",
              "        vertical-align: top;\n",
              "    }\n",
              "\n",
              "    .dataframe thead th {\n",
              "        text-align: right;\n",
              "    }\n",
              "</style>\n",
              "<table border=\"1\" class=\"dataframe\">\n",
              "  <thead>\n",
              "    <tr style=\"text-align: right;\">\n",
              "      <th></th>\n",
              "      <th>demog_2</th>\n",
              "      <th>income</th>\n",
              "      <th>city_tier</th>\n",
              "      <th>occupation</th>\n",
              "      <th>email_domain</th>\n",
              "      <th>demog_40</th>\n",
              "      <th>demog_43</th>\n",
              "    </tr>\n",
              "  </thead>\n",
              "  <tbody>\n",
              "    <tr>\n",
              "      <th>0</th>\n",
              "      <td>3.0</td>\n",
              "      <td>100001 to 5L</td>\n",
              "      <td>Rural</td>\n",
              "      <td>Self_Employed</td>\n",
              "      <td>gmail</td>\n",
              "      <td>low</td>\n",
              "      <td>medium</td>\n",
              "    </tr>\n",
              "    <tr>\n",
              "      <th>1</th>\n",
              "      <td>1.0</td>\n",
              "      <td>0 to 1L</td>\n",
              "      <td>Tier 1</td>\n",
              "      <td>Salaried</td>\n",
              "      <td>gmail</td>\n",
              "      <td>High</td>\n",
              "      <td>High</td>\n",
              "    </tr>\n",
              "    <tr>\n",
              "      <th>2</th>\n",
              "      <td>3.0</td>\n",
              "      <td>0 to 1L</td>\n",
              "      <td>Tier 2</td>\n",
              "      <td>Self_Employed</td>\n",
              "      <td>gmail</td>\n",
              "      <td>medium</td>\n",
              "      <td>High</td>\n",
              "    </tr>\n",
              "    <tr>\n",
              "      <th>3</th>\n",
              "      <td>3.0</td>\n",
              "      <td>100001 to 5L</td>\n",
              "      <td>Tier 7</td>\n",
              "      <td>Self_Employed</td>\n",
              "      <td>gmail</td>\n",
              "      <td>High</td>\n",
              "      <td>High</td>\n",
              "    </tr>\n",
              "    <tr>\n",
              "      <th>4</th>\n",
              "      <td>6.0</td>\n",
              "      <td>0 to 1L</td>\n",
              "      <td>Tier 1</td>\n",
              "      <td>Student</td>\n",
              "      <td>gmail</td>\n",
              "      <td>low</td>\n",
              "      <td>medium</td>\n",
              "    </tr>\n",
              "    <tr>\n",
              "      <th>...</th>\n",
              "      <td>...</td>\n",
              "      <td>...</td>\n",
              "      <td>...</td>\n",
              "      <td>...</td>\n",
              "      <td>...</td>\n",
              "      <td>...</td>\n",
              "      <td>...</td>\n",
              "    </tr>\n",
              "    <tr>\n",
              "      <th>95744</th>\n",
              "      <td>2</td>\n",
              "      <td>0 to 1L</td>\n",
              "      <td>Rural</td>\n",
              "      <td>Self_Employed</td>\n",
              "      <td>gmail</td>\n",
              "      <td>High</td>\n",
              "      <td>High</td>\n",
              "    </tr>\n",
              "    <tr>\n",
              "      <th>95745</th>\n",
              "      <td>6</td>\n",
              "      <td>100001 to 5L</td>\n",
              "      <td>Rural</td>\n",
              "      <td>Student</td>\n",
              "      <td>gmail</td>\n",
              "      <td>low</td>\n",
              "      <td>medium</td>\n",
              "    </tr>\n",
              "    <tr>\n",
              "      <th>95746</th>\n",
              "      <td>1</td>\n",
              "      <td>100001 to 5L</td>\n",
              "      <td>Tier 6</td>\n",
              "      <td>Salaried</td>\n",
              "      <td>gmail</td>\n",
              "      <td>High</td>\n",
              "      <td>medium</td>\n",
              "    </tr>\n",
              "    <tr>\n",
              "      <th>95747</th>\n",
              "      <td>1</td>\n",
              "      <td>5L to 10L</td>\n",
              "      <td>Tier 1</td>\n",
              "      <td>Other</td>\n",
              "      <td>gmail</td>\n",
              "      <td>High</td>\n",
              "      <td>High</td>\n",
              "    </tr>\n",
              "    <tr>\n",
              "      <th>95748</th>\n",
              "      <td>2</td>\n",
              "      <td>5L to 10L</td>\n",
              "      <td>Tier 7</td>\n",
              "      <td>Self_Employed</td>\n",
              "      <td>gmail</td>\n",
              "      <td>medium</td>\n",
              "      <td>medium</td>\n",
              "    </tr>\n",
              "  </tbody>\n",
              "</table>\n",
              "<p>95746 rows × 7 columns</p>\n",
              "</div>\n",
              "    <div class=\"colab-df-buttons\">\n",
              "\n",
              "  <div class=\"colab-df-container\">\n",
              "    <button class=\"colab-df-convert\" onclick=\"convertToInteractive('df-c9bc2e42-2a02-4012-8434-790c69478088')\"\n",
              "            title=\"Convert this dataframe to an interactive table.\"\n",
              "            style=\"display:none;\">\n",
              "\n",
              "  <svg xmlns=\"http://www.w3.org/2000/svg\" height=\"24px\" viewBox=\"0 -960 960 960\">\n",
              "    <path d=\"M120-120v-720h720v720H120Zm60-500h600v-160H180v160Zm220 220h160v-160H400v160Zm0 220h160v-160H400v160ZM180-400h160v-160H180v160Zm440 0h160v-160H620v160ZM180-180h160v-160H180v160Zm440 0h160v-160H620v160Z\"/>\n",
              "  </svg>\n",
              "    </button>\n",
              "\n",
              "  <style>\n",
              "    .colab-df-container {\n",
              "      display:flex;\n",
              "      gap: 12px;\n",
              "    }\n",
              "\n",
              "    .colab-df-convert {\n",
              "      background-color: #E8F0FE;\n",
              "      border: none;\n",
              "      border-radius: 50%;\n",
              "      cursor: pointer;\n",
              "      display: none;\n",
              "      fill: #1967D2;\n",
              "      height: 32px;\n",
              "      padding: 0 0 0 0;\n",
              "      width: 32px;\n",
              "    }\n",
              "\n",
              "    .colab-df-convert:hover {\n",
              "      background-color: #E2EBFA;\n",
              "      box-shadow: 0px 1px 2px rgba(60, 64, 67, 0.3), 0px 1px 3px 1px rgba(60, 64, 67, 0.15);\n",
              "      fill: #174EA6;\n",
              "    }\n",
              "\n",
              "    .colab-df-buttons div {\n",
              "      margin-bottom: 4px;\n",
              "    }\n",
              "\n",
              "    [theme=dark] .colab-df-convert {\n",
              "      background-color: #3B4455;\n",
              "      fill: #D2E3FC;\n",
              "    }\n",
              "\n",
              "    [theme=dark] .colab-df-convert:hover {\n",
              "      background-color: #434B5C;\n",
              "      box-shadow: 0px 1px 3px 1px rgba(0, 0, 0, 0.15);\n",
              "      filter: drop-shadow(0px 1px 2px rgba(0, 0, 0, 0.3));\n",
              "      fill: #FFFFFF;\n",
              "    }\n",
              "  </style>\n",
              "\n",
              "    <script>\n",
              "      const buttonEl =\n",
              "        document.querySelector('#df-c9bc2e42-2a02-4012-8434-790c69478088 button.colab-df-convert');\n",
              "      buttonEl.style.display =\n",
              "        google.colab.kernel.accessAllowed ? 'block' : 'none';\n",
              "\n",
              "      async function convertToInteractive(key) {\n",
              "        const element = document.querySelector('#df-c9bc2e42-2a02-4012-8434-790c69478088');\n",
              "        const dataTable =\n",
              "          await google.colab.kernel.invokeFunction('convertToInteractive',\n",
              "                                                    [key], {});\n",
              "        if (!dataTable) return;\n",
              "\n",
              "        const docLinkHtml = 'Like what you see? Visit the ' +\n",
              "          '<a target=\"_blank\" href=https://colab.research.google.com/notebooks/data_table.ipynb>data table notebook</a>'\n",
              "          + ' to learn more about interactive tables.';\n",
              "        element.innerHTML = '';\n",
              "        dataTable['output_type'] = 'display_data';\n",
              "        await google.colab.output.renderOutput(dataTable, element);\n",
              "        const docLink = document.createElement('div');\n",
              "        docLink.innerHTML = docLinkHtml;\n",
              "        element.appendChild(docLink);\n",
              "      }\n",
              "    </script>\n",
              "  </div>\n",
              "\n",
              "\n",
              "<div id=\"df-667fa140-8868-4f66-b265-8c86be5108fb\">\n",
              "  <button class=\"colab-df-quickchart\" onclick=\"quickchart('df-667fa140-8868-4f66-b265-8c86be5108fb')\"\n",
              "            title=\"Suggest charts\"\n",
              "            style=\"display:none;\">\n",
              "\n",
              "<svg xmlns=\"http://www.w3.org/2000/svg\" height=\"24px\"viewBox=\"0 0 24 24\"\n",
              "     width=\"24px\">\n",
              "    <g>\n",
              "        <path d=\"M19 3H5c-1.1 0-2 .9-2 2v14c0 1.1.9 2 2 2h14c1.1 0 2-.9 2-2V5c0-1.1-.9-2-2-2zM9 17H7v-7h2v7zm4 0h-2V7h2v10zm4 0h-2v-4h2v4z\"/>\n",
              "    </g>\n",
              "</svg>\n",
              "  </button>\n",
              "\n",
              "<style>\n",
              "  .colab-df-quickchart {\n",
              "      --bg-color: #E8F0FE;\n",
              "      --fill-color: #1967D2;\n",
              "      --hover-bg-color: #E2EBFA;\n",
              "      --hover-fill-color: #174EA6;\n",
              "      --disabled-fill-color: #AAA;\n",
              "      --disabled-bg-color: #DDD;\n",
              "  }\n",
              "\n",
              "  [theme=dark] .colab-df-quickchart {\n",
              "      --bg-color: #3B4455;\n",
              "      --fill-color: #D2E3FC;\n",
              "      --hover-bg-color: #434B5C;\n",
              "      --hover-fill-color: #FFFFFF;\n",
              "      --disabled-bg-color: #3B4455;\n",
              "      --disabled-fill-color: #666;\n",
              "  }\n",
              "\n",
              "  .colab-df-quickchart {\n",
              "    background-color: var(--bg-color);\n",
              "    border: none;\n",
              "    border-radius: 50%;\n",
              "    cursor: pointer;\n",
              "    display: none;\n",
              "    fill: var(--fill-color);\n",
              "    height: 32px;\n",
              "    padding: 0;\n",
              "    width: 32px;\n",
              "  }\n",
              "\n",
              "  .colab-df-quickchart:hover {\n",
              "    background-color: var(--hover-bg-color);\n",
              "    box-shadow: 0 1px 2px rgba(60, 64, 67, 0.3), 0 1px 3px 1px rgba(60, 64, 67, 0.15);\n",
              "    fill: var(--button-hover-fill-color);\n",
              "  }\n",
              "\n",
              "  .colab-df-quickchart-complete:disabled,\n",
              "  .colab-df-quickchart-complete:disabled:hover {\n",
              "    background-color: var(--disabled-bg-color);\n",
              "    fill: var(--disabled-fill-color);\n",
              "    box-shadow: none;\n",
              "  }\n",
              "\n",
              "  .colab-df-spinner {\n",
              "    border: 2px solid var(--fill-color);\n",
              "    border-color: transparent;\n",
              "    border-bottom-color: var(--fill-color);\n",
              "    animation:\n",
              "      spin 1s steps(1) infinite;\n",
              "  }\n",
              "\n",
              "  @keyframes spin {\n",
              "    0% {\n",
              "      border-color: transparent;\n",
              "      border-bottom-color: var(--fill-color);\n",
              "      border-left-color: var(--fill-color);\n",
              "    }\n",
              "    20% {\n",
              "      border-color: transparent;\n",
              "      border-left-color: var(--fill-color);\n",
              "      border-top-color: var(--fill-color);\n",
              "    }\n",
              "    30% {\n",
              "      border-color: transparent;\n",
              "      border-left-color: var(--fill-color);\n",
              "      border-top-color: var(--fill-color);\n",
              "      border-right-color: var(--fill-color);\n",
              "    }\n",
              "    40% {\n",
              "      border-color: transparent;\n",
              "      border-right-color: var(--fill-color);\n",
              "      border-top-color: var(--fill-color);\n",
              "    }\n",
              "    60% {\n",
              "      border-color: transparent;\n",
              "      border-right-color: var(--fill-color);\n",
              "    }\n",
              "    80% {\n",
              "      border-color: transparent;\n",
              "      border-right-color: var(--fill-color);\n",
              "      border-bottom-color: var(--fill-color);\n",
              "    }\n",
              "    90% {\n",
              "      border-color: transparent;\n",
              "      border-bottom-color: var(--fill-color);\n",
              "    }\n",
              "  }\n",
              "</style>\n",
              "\n",
              "  <script>\n",
              "    async function quickchart(key) {\n",
              "      const quickchartButtonEl =\n",
              "        document.querySelector('#' + key + ' button');\n",
              "      quickchartButtonEl.disabled = true;  // To prevent multiple clicks.\n",
              "      quickchartButtonEl.classList.add('colab-df-spinner');\n",
              "      try {\n",
              "        const charts = await google.colab.kernel.invokeFunction(\n",
              "            'suggestCharts', [key], {});\n",
              "      } catch (error) {\n",
              "        console.error('Error during call to suggestCharts:', error);\n",
              "      }\n",
              "      quickchartButtonEl.classList.remove('colab-df-spinner');\n",
              "      quickchartButtonEl.classList.add('colab-df-quickchart-complete');\n",
              "    }\n",
              "    (() => {\n",
              "      let quickchartButtonEl =\n",
              "        document.querySelector('#df-667fa140-8868-4f66-b265-8c86be5108fb button');\n",
              "      quickchartButtonEl.style.display =\n",
              "        google.colab.kernel.accessAllowed ? 'block' : 'none';\n",
              "    })();\n",
              "  </script>\n",
              "</div>\n",
              "\n",
              "  <div id=\"id_82a4e4fc-aec1-4ecb-a448-73ff0a4e2833\">\n",
              "    <style>\n",
              "      .colab-df-generate {\n",
              "        background-color: #E8F0FE;\n",
              "        border: none;\n",
              "        border-radius: 50%;\n",
              "        cursor: pointer;\n",
              "        display: none;\n",
              "        fill: #1967D2;\n",
              "        height: 32px;\n",
              "        padding: 0 0 0 0;\n",
              "        width: 32px;\n",
              "      }\n",
              "\n",
              "      .colab-df-generate:hover {\n",
              "        background-color: #E2EBFA;\n",
              "        box-shadow: 0px 1px 2px rgba(60, 64, 67, 0.3), 0px 1px 3px 1px rgba(60, 64, 67, 0.15);\n",
              "        fill: #174EA6;\n",
              "      }\n",
              "\n",
              "      [theme=dark] .colab-df-generate {\n",
              "        background-color: #3B4455;\n",
              "        fill: #D2E3FC;\n",
              "      }\n",
              "\n",
              "      [theme=dark] .colab-df-generate:hover {\n",
              "        background-color: #434B5C;\n",
              "        box-shadow: 0px 1px 3px 1px rgba(0, 0, 0, 0.15);\n",
              "        filter: drop-shadow(0px 1px 2px rgba(0, 0, 0, 0.3));\n",
              "        fill: #FFFFFF;\n",
              "      }\n",
              "    </style>\n",
              "    <button class=\"colab-df-generate\" onclick=\"generateWithVariable('df_object')\"\n",
              "            title=\"Generate code using this dataframe.\"\n",
              "            style=\"display:none;\">\n",
              "\n",
              "  <svg xmlns=\"http://www.w3.org/2000/svg\" height=\"24px\"viewBox=\"0 0 24 24\"\n",
              "       width=\"24px\">\n",
              "    <path d=\"M7,19H8.4L18.45,9,17,7.55,7,17.6ZM5,21V16.75L18.45,3.32a2,2,0,0,1,2.83,0l1.4,1.43a1.91,1.91,0,0,1,.58,1.4,1.91,1.91,0,0,1-.58,1.4L9.25,21ZM18.45,9,17,7.55Zm-12,3A5.31,5.31,0,0,0,4.9,8.1,5.31,5.31,0,0,0,1,6.5,5.31,5.31,0,0,0,4.9,4.9,5.31,5.31,0,0,0,6.5,1,5.31,5.31,0,0,0,8.1,4.9,5.31,5.31,0,0,0,12,6.5,5.46,5.46,0,0,0,6.5,12Z\"/>\n",
              "  </svg>\n",
              "    </button>\n",
              "    <script>\n",
              "      (() => {\n",
              "      const buttonEl =\n",
              "        document.querySelector('#id_82a4e4fc-aec1-4ecb-a448-73ff0a4e2833 button.colab-df-generate');\n",
              "      buttonEl.style.display =\n",
              "        google.colab.kernel.accessAllowed ? 'block' : 'none';\n",
              "\n",
              "      buttonEl.onclick = () => {\n",
              "        google.colab.notebook.generateWithVariable('df_object');\n",
              "      }\n",
              "      })();\n",
              "    </script>\n",
              "  </div>\n",
              "\n",
              "    </div>\n",
              "  </div>\n"
            ]
          },
          "metadata": {},
          "execution_count": 30
        }
      ]
    },
    {
      "cell_type": "code",
      "source": [
        "column_names_of_df_object = df_object.columns.tolist()"
      ],
      "metadata": {
        "id": "Zd9VHglo8g0y"
      },
      "execution_count": null,
      "outputs": []
    },
    {
      "cell_type": "code",
      "source": [
        "column_names_of_df_object"
      ],
      "metadata": {
        "colab": {
          "base_uri": "https://localhost:8080/"
        },
        "id": "X26n6Paz8qk7",
        "outputId": "73a5a173-7fc6-4a63-f496-017a9e871397"
      },
      "execution_count": null,
      "outputs": [
        {
          "output_type": "execute_result",
          "data": {
            "text/plain": [
              "['demog_2',\n",
              " 'income',\n",
              " 'city_tier',\n",
              " 'occupation',\n",
              " 'email_domain',\n",
              " 'demog_40',\n",
              " 'demog_43']"
            ]
          },
          "metadata": {},
          "execution_count": 32
        }
      ]
    },
    {
      "cell_type": "code",
      "source": [
        "df.iloc[:, 5].value_counts() #mixed data type"
      ],
      "metadata": {
        "colab": {
          "base_uri": "https://localhost:8080/"
        },
        "id": "ESOB0bBUbBCZ",
        "outputId": "14452ced-de28-48a4-ba0b-c916e2ecaf4a"
      },
      "execution_count": null,
      "outputs": [
        {
          "output_type": "execute_result",
          "data": {
            "text/plain": [
              "101.0    92251\n",
              "103.0     2167\n",
              "102.0      590\n",
              "104.0      501\n",
              "213.0      222\n",
              "168.0        8\n",
              "105.0        4\n",
              "106.0        3\n",
              "Name: demog_3, dtype: int64"
            ]
          },
          "metadata": {},
          "execution_count": 33
        }
      ]
    },
    {
      "cell_type": "code",
      "source": [
        "df.isnull().mean()*100"
      ],
      "metadata": {
        "colab": {
          "base_uri": "https://localhost:8080/"
        },
        "id": "QnaHU3q79dMT",
        "outputId": "4da03253-267d-407e-c802-bcec99efbffc"
      },
      "execution_count": null,
      "outputs": [
        {
          "output_type": "execute_result",
          "data": {
            "text/plain": [
              "Primary key               0.0\n",
              "Target                    0.0\n",
              "demog_1                   0.0\n",
              "demog_2                   0.0\n",
              "income                    0.0\n",
              "                         ... \n",
              "opening_day               0.0\n",
              "opening_month             0.0\n",
              "opening_year              0.0\n",
              "is_N                      0.0\n",
              "numeric_values_demog_4    0.0\n",
              "Length: 147, dtype: float64"
            ]
          },
          "metadata": {},
          "execution_count": 34
        }
      ]
    },
    {
      "cell_type": "code",
      "source": [
        "unique_value_counts_df_main = pd.DataFrame(df.nunique())"
      ],
      "metadata": {
        "id": "wDZ-CLgiFrR_"
      },
      "execution_count": null,
      "outputs": []
    },
    {
      "cell_type": "code",
      "source": [
        "df_demog.isnull().mean()*100"
      ],
      "metadata": {
        "colab": {
          "base_uri": "https://localhost:8080/"
        },
        "id": "JijHDMmP_u90",
        "outputId": "11dc12af-25db-43dc-c70c-443f40799d4d"
      },
      "execution_count": null,
      "outputs": [
        {
          "output_type": "execute_result",
          "data": {
            "text/plain": [
              "demog_1     0.0\n",
              "demog_2     0.0\n",
              "demog_3     0.0\n",
              "demog_5     0.0\n",
              "demog_6     0.0\n",
              "demog_8     0.0\n",
              "demog_9     0.0\n",
              "demog_11    0.0\n",
              "demog_13    0.0\n",
              "demog_14    0.0\n",
              "demog_15    0.0\n",
              "demog_16    0.0\n",
              "demog_17    0.0\n",
              "demog_18    0.0\n",
              "demog_19    0.0\n",
              "demog_20    0.0\n",
              "demog_21    0.0\n",
              "demog_23    0.0\n",
              "demog_24    0.0\n",
              "demog_25    0.0\n",
              "demog_26    0.0\n",
              "demog_27    0.0\n",
              "demog_28    0.0\n",
              "demog_29    0.0\n",
              "demog_30    0.0\n",
              "demog_31    0.0\n",
              "demog_32    0.0\n",
              "demog_33    0.0\n",
              "demog_34    0.0\n",
              "demog_35    0.0\n",
              "demog_36    0.0\n",
              "demog_37    0.0\n",
              "demog_39    0.0\n",
              "demog_40    0.0\n",
              "demog_41    0.0\n",
              "demog_42    0.0\n",
              "demog_43    0.0\n",
              "dtype: float64"
            ]
          },
          "metadata": {},
          "execution_count": 36
        }
      ]
    },
    {
      "cell_type": "code",
      "source": [
        "df_others.isnull().mean()*100"
      ],
      "metadata": {
        "colab": {
          "base_uri": "https://localhost:8080/"
        },
        "id": "2fTV13AqGpa6",
        "outputId": "c85136d9-e70e-42e4-ae3b-4f3ff6ddd7ea"
      },
      "execution_count": null,
      "outputs": [
        {
          "output_type": "execute_result",
          "data": {
            "text/plain": [
              "others_1      0.000000\n",
              "others_2      0.000000\n",
              "others_4      0.001044\n",
              "others_5     13.644434\n",
              "others_6      0.003133\n",
              "others_7      0.003133\n",
              "others_8      0.003133\n",
              "others_9      0.003133\n",
              "others_10     0.003133\n",
              "others_11     0.003133\n",
              "others_12     0.000000\n",
              "others_13     0.000000\n",
              "others_14     0.000000\n",
              "others_15    39.072128\n",
              "others_16    39.072128\n",
              "others_18     0.000000\n",
              "others_21    14.133227\n",
              "others_22    14.133227\n",
              "others_23    14.133227\n",
              "others_24    14.133227\n",
              "others_25    14.133227\n",
              "others_26    14.133227\n",
              "others_27     0.009400\n",
              "others_28     0.009400\n",
              "others_33     0.000000\n",
              "others_34     0.000000\n",
              "others_35     0.000000\n",
              "others_36     0.000000\n",
              "others_37     0.000000\n",
              "others_38     0.000000\n",
              "others_39     0.000000\n",
              "dtype: float64"
            ]
          },
          "metadata": {},
          "execution_count": 37
        }
      ]
    },
    {
      "cell_type": "code",
      "source": [
        "df_object.isnull().mean()*100"
      ],
      "metadata": {
        "colab": {
          "base_uri": "https://localhost:8080/"
        },
        "id": "DVjlI5QrG1Rj",
        "outputId": "67da5e08-94a1-41a4-df88-65f2d824f4c7"
      },
      "execution_count": null,
      "outputs": [
        {
          "output_type": "execute_result",
          "data": {
            "text/plain": [
              "demog_2         0.0\n",
              "income          0.0\n",
              "city_tier       0.0\n",
              "occupation      0.0\n",
              "email_domain    0.0\n",
              "demog_40        0.0\n",
              "demog_43        0.0\n",
              "dtype: float64"
            ]
          },
          "metadata": {},
          "execution_count": 38
        }
      ]
    },
    {
      "cell_type": "code",
      "source": [
        "analyze_column(df,'city_tier')"
      ],
      "metadata": {
        "colab": {
          "base_uri": "https://localhost:8080/"
        },
        "id": "IGOV5KH--I0j",
        "outputId": "aac46195-97f7-4821-a9c4-f32adb0ac54f"
      },
      "execution_count": null,
      "outputs": [
        {
          "output_type": "execute_result",
          "data": {
            "text/plain": [
              "(Tier 1    25323\n",
              " Rural     18885\n",
              " Tier 8    11804\n",
              " Tier 7    10179\n",
              " Tier 6     8766\n",
              " Tier 3     6200\n",
              " Tier 5     5533\n",
              " Tier 2     4817\n",
              " Tier 4     2240\n",
              " Name: city_tier, dtype: int64,\n",
              " Rural     538\n",
              " Tier 1    354\n",
              " Tier 8    274\n",
              " Tier 6    211\n",
              " Tier 7    209\n",
              " Tier 2    127\n",
              " Tier 3    126\n",
              " Tier 5     96\n",
              " Tier 4     64\n",
              " Name: city_tier, dtype: int64,\n",
              " 0,\n",
              " 0)"
            ]
          },
          "metadata": {},
          "execution_count": 39
        }
      ]
    },
    {
      "cell_type": "code",
      "source": [
        "# Encoding dataframe starts from here , ordinal and One-Hot encoding."
      ],
      "metadata": {
        "id": "_tda_SUQIchH"
      },
      "execution_count": null,
      "outputs": []
    },
    {
      "cell_type": "code",
      "source": [
        "from sklearn.preprocessing import OrdinalEncoder\n",
        "# City Tier column\n",
        "# Define the order for encoding\n",
        "tier_order = ['Rural', 'Tier 8', 'Tier 7', 'Tier 6', 'Tier 5', 'Tier 4', 'Tier 3', 'Tier 2', 'Tier 1']\n",
        "\n",
        "# Create an instance of OrdinalEncoder with the specified order\n",
        "encoder = OrdinalEncoder(categories=[tier_order])\n",
        "\n",
        "# Fit and transform the 'city_tier' column\n",
        "df['city_tier_encoded'] = encoder.fit_transform(df[['city_tier']])\n",
        "\n",
        "# Drop the original 'city_tier' column\n",
        "df = df.drop(columns=['city_tier'])\n",
        "df.rename(columns={'city_tier_encoded': 'city_tier'}, inplace=True)"
      ],
      "metadata": {
        "id": "orRJjcRzHtmh"
      },
      "execution_count": null,
      "outputs": []
    },
    {
      "cell_type": "code",
      "source": [
        "from sklearn.preprocessing import OrdinalEncoder\n",
        "# City Tier column\n",
        "# Define the order for encoding\n",
        "tier_order = ['Rural', 'Tier 8', 'Tier 7', 'Tier 6', 'Tier 5', 'Tier 4', 'Tier 3', 'Tier 2', 'Tier 1']\n",
        "\n",
        "# Create an instance of OrdinalEncoder with the specified order\n",
        "encoder = OrdinalEncoder(categories=[tier_order])\n",
        "\n",
        "# Fit and transform the 'city_tier' column\n",
        "df_val['city_tier_encoded'] = encoder.fit_transform(df_val[['city_tier']])\n",
        "\n",
        "# Drop the original 'city_tier' column\n",
        "df_val = df_val.drop(columns=['city_tier'])\n",
        "df_val.rename(columns={'city_tier_encoded': 'city_tier'}, inplace=True)"
      ],
      "metadata": {
        "id": "i5pG-c6MgrZR"
      },
      "execution_count": null,
      "outputs": []
    },
    {
      "cell_type": "code",
      "source": [
        "# Define the mapping for ordinal encoding\n",
        "ordinal_mapping = {'High': 3, 'medium': 2, 'low': 1}\n",
        "\n",
        "# Create an instance of OrdinalEncoder with the specified mapping\n",
        "encoder = OrdinalEncoder(categories=[sorted(ordinal_mapping, key=ordinal_mapping.get)])\n",
        "\n",
        "# Apply ordinal encoding to 'demog_40' and 'demog_43'\n",
        "df['demog_40'] = encoder.fit_transform(df[['demog_40']])\n",
        "df['demog_43'] = encoder.fit_transform(df[['demog_43']])"
      ],
      "metadata": {
        "id": "qzF4bdGlIHPI"
      },
      "execution_count": null,
      "outputs": []
    },
    {
      "cell_type": "code",
      "source": [
        "# Define the mapping for ordinal encoding\n",
        "ordinal_mapping = {'High': 3, 'medium': 2, 'low': 1}\n",
        "\n",
        "# Create an instance of OrdinalEncoder with the specified mapping\n",
        "encoder = OrdinalEncoder(categories=[sorted(ordinal_mapping, key=ordinal_mapping.get)])\n",
        "\n",
        "# Apply ordinal encoding to 'demog_40' and 'demog_43'\n",
        "df_val['demog_40'] = encoder.fit_transform(df_val[['demog_40']])\n",
        "df_val['demog_43'] = encoder.fit_transform(df_val[['demog_43']])"
      ],
      "metadata": {
        "id": "UTpNGVFGg37o"
      },
      "execution_count": null,
      "outputs": []
    },
    {
      "cell_type": "code",
      "source": [
        "# Assuming df is your DataFrame and 'income' is the column to be encoded\n",
        "income_mapping = {\n",
        "    '0': 0,\n",
        "    '0 to 1L': 1,\n",
        "    '100001 to 5L': 2,\n",
        "    '5L to 10L': 3,\n",
        "    '10L to 25L': 4,\n",
        "    '25L to 50L': 5,\n",
        "    '50L to 3Crore': 6,\n",
        "    '3Crore to 5Crore': 7,\n",
        "    '5Crore to 10Crore': 8,\n",
        "    '10Crore to 15Crore': 9,\n",
        "    '15Crore to 20Crore': 10,\n",
        "    '20Crore to 35Crore': 11\n",
        "}\n",
        "\n",
        "df['income'] = df['income'].map(income_mapping)"
      ],
      "metadata": {
        "id": "hgbg3eEfIXC2"
      },
      "execution_count": null,
      "outputs": []
    },
    {
      "cell_type": "code",
      "source": [
        "# Assuming df_val is your DataFrame and 'income' is the column to be encoded\n",
        "income_mapping = {\n",
        "    '0': 0,\n",
        "    '0 to 1L': 1,\n",
        "    '100001 to 5L': 2,\n",
        "    '5L to 10L': 3,\n",
        "    '10L to 25L': 4,\n",
        "    '25L to 50L': 5,\n",
        "    '50L to 3Crore': 6,\n",
        "    '3Crore to 5Crore': 7,\n",
        "    '5Crore to 10Crore': 8,\n",
        "    '10Crore to 15Crore': 9,\n",
        "    '15Crore to 20Crore': 10,\n",
        "    '20Crore to 35Crore': 11\n",
        "}\n",
        "\n",
        "df_val['income'] = df_val['income'].map(income_mapping)"
      ],
      "metadata": {
        "id": "U5ZiiONqhoho"
      },
      "execution_count": null,
      "outputs": []
    },
    {
      "cell_type": "code",
      "source": [
        "# from sklearn.preprocessing import OneHotEncoder\n",
        "\n",
        "# # Assuming df is your DataFrame and 'occupation' is the column to be one-hot encoded\n",
        "# encoder = OneHotEncoder(drop='first',sparse_output=False)\n",
        "\n",
        "# # Reshape the data to a 2D array\n",
        "# occupation_encoded = encoder.fit_transform(df[['occupation']])\n",
        "\n",
        "# # Create a DataFrame from the one-hot encoded array\n",
        "# occupation_ohe = pd.DataFrame(occupation_encoded, columns=encoder.get_feature_names_out(['occupation']))\n",
        "\n",
        "# # Concatenate the one-hot encoded columns with the original DataFrame\n",
        "# df = pd.concat([df, occupation_ohe], axis=1)\n",
        "\n",
        "# # Drop the original 'occupation' column\n",
        "# df.drop('occupation', axis=1, inplace=True)"
      ],
      "metadata": {
        "id": "unMb-OKdWOjo"
      },
      "execution_count": null,
      "outputs": []
    },
    {
      "cell_type": "code",
      "source": [
        "df1 = df.copy()"
      ],
      "metadata": {
        "id": "-0bKpayOWSx-"
      },
      "execution_count": null,
      "outputs": []
    },
    {
      "cell_type": "code",
      "source": [
        "df2 = df_val.copy()"
      ],
      "metadata": {
        "id": "BmkDjxKJh3iD"
      },
      "execution_count": null,
      "outputs": []
    },
    {
      "cell_type": "code",
      "source": [
        "df = pd.get_dummies(df, columns=['occupation'], drop_first=True)"
      ],
      "metadata": {
        "id": "Acip8Bgg8tBm"
      },
      "execution_count": null,
      "outputs": []
    },
    {
      "cell_type": "code",
      "source": [
        "df = pd.get_dummies(df, columns=['email_domain'], drop_first=True)"
      ],
      "metadata": {
        "id": "HaImItdc8_MG"
      },
      "execution_count": null,
      "outputs": []
    },
    {
      "cell_type": "code",
      "source": [
        "df_val = pd.get_dummies(df_val, columns=['occupation'], drop_first=True)"
      ],
      "metadata": {
        "id": "QAc_lijT8_5H"
      },
      "execution_count": null,
      "outputs": []
    },
    {
      "cell_type": "code",
      "source": [
        "df_val = pd.get_dummies(df_val, columns=['email_domain'], drop_first=True)"
      ],
      "metadata": {
        "id": "V3mY3zK-9P7h"
      },
      "execution_count": null,
      "outputs": []
    },
    {
      "cell_type": "code",
      "source": [
        "import pandas as pd\n",
        "from sklearn.impute import SimpleImputer\n",
        "\n",
        "# Assuming df is your DataFrame with missing values\n",
        "threshold_unique_values = 8\n",
        "\n",
        "# Identify columns with missing values\n",
        "columns_with_missing_values = df.columns[df.isnull().any()]\n",
        "\n",
        "# Create a dictionary to store the strategy for each column\n",
        "imputation_strategies = {}\n",
        "\n",
        "# Determine strategy based on the number of unique values\n",
        "for column in columns_with_missing_values:\n",
        "    unique_values_count = df[column].nunique()\n",
        "    if unique_values_count <= threshold_unique_values:\n",
        "        imputation_strategies[column] = 'most_frequent'  # Use mode\n",
        "    else:\n",
        "        imputation_strategies[column] = 'mean'\n",
        "\n",
        "# Perform imputation\n",
        "imputer = SimpleImputer(strategy='mean')\n",
        "df_imputed = pd.DataFrame(imputer.fit_transform(df), columns=df.columns)\n",
        "\n",
        "# Manually apply mode imputation for columns with 'most_frequent' strategy\n",
        "for column, strategy in imputation_strategies.items():\n",
        "    if strategy == 'most_frequent':\n",
        "        df_imputed[column] = df[column].fillna(df[column].mode().iloc[0])\n",
        "\n",
        "# df_imputed now contains the DataFrame with missing values imputed based on the defined strategy"
      ],
      "metadata": {
        "id": "SZDT0caz9TfO"
      },
      "execution_count": null,
      "outputs": []
    },
    {
      "cell_type": "code",
      "source": [
        "import pandas as pd\n",
        "from sklearn.impute import SimpleImputer\n",
        "\n",
        "# Assuming df is your DataFrame with missing values\n",
        "threshold_unique_values = 8\n",
        "\n",
        "# Identify columns with missing values\n",
        "columns_with_missing_values = df.columns[df.isnull().any()]\n",
        "\n",
        "# Create a dictionary to store the strategy for each column\n",
        "imputation_strategies = {}\n",
        "\n",
        "# Determine strategy based on the number of unique values\n",
        "for column in columns_with_missing_values:\n",
        "    unique_values_count = df[column].nunique()\n",
        "    if unique_values_count <= threshold_unique_values:\n",
        "        imputation_strategies[column] = 'most_frequent'  # Use mode\n",
        "    else:\n",
        "        imputation_strategies[column] = 'mean'\n",
        "\n",
        "# Perform imputation\n",
        "imputer = SimpleImputer(strategy='mean')\n",
        "df_val_imputed = pd.DataFrame(imputer.fit_transform(df), columns=df.columns)\n",
        "\n",
        "# Manually apply mode imputation for columns with 'most_frequent' strategy\n",
        "for column, strategy in imputation_strategies.items():\n",
        "    if strategy == 'most_frequent':\n",
        "        df_val_imputed[column] = df[column].fillna(df[column].mode().iloc[0])\n",
        "\n",
        "# df_val_imputed now contains the DataFrame with missing values imputed based on the defined strategy"
      ],
      "metadata": {
        "id": "doj-U1x2DnRJ"
      },
      "execution_count": null,
      "outputs": []
    },
    {
      "cell_type": "code",
      "source": [
        "df_imputed['others_4'].fillna(0, inplace=True)\n",
        "df_imputed['others_5'].fillna(1, inplace=True)"
      ],
      "metadata": {
        "id": "6hIanIju9VFm"
      },
      "execution_count": null,
      "outputs": []
    },
    {
      "cell_type": "code",
      "source": [
        "df_val_imputed['others_4'].fillna(0, inplace=True)\n",
        "df_val_imputed['others_5'].fillna(1, inplace=True)"
      ],
      "metadata": {
        "id": "u7mZt6IKIWaA"
      },
      "execution_count": null,
      "outputs": []
    },
    {
      "cell_type": "code",
      "source": [
        "import pandas as pd\n",
        "\n",
        "# Assuming df is your DataFrame\n",
        "columns_with_missing_values = df_imputed.columns[df_imputed.isnull().any()].tolist()\n",
        "\n",
        "print(\"Columns with missing values:\", columns_with_missing_values)\n"
      ],
      "metadata": {
        "colab": {
          "base_uri": "https://localhost:8080/"
        },
        "id": "Mk0TyOCzJfSR",
        "outputId": "6fc806b4-9c96-4f2d-a577-2db52597a51d"
      },
      "execution_count": null,
      "outputs": [
        {
          "output_type": "stream",
          "name": "stdout",
          "text": [
            "Columns with missing values: []\n"
          ]
        }
      ]
    },
    {
      "cell_type": "code",
      "source": [
        "import pandas as pd\n",
        "\n",
        "# Assuming df is your DataFrame\n",
        "columns_with_missing_values = df_val_imputed.columns[df_val_imputed.isnull().any()].tolist()\n",
        "\n",
        "print(\"Columns with missing values:\", columns_with_missing_values)"
      ],
      "metadata": {
        "colab": {
          "base_uri": "https://localhost:8080/"
        },
        "id": "y9z987aSJ0I0",
        "outputId": "e3bcda9c-00c3-419e-ac70-63324aabe64c"
      },
      "execution_count": null,
      "outputs": [
        {
          "output_type": "stream",
          "name": "stdout",
          "text": [
            "Columns with missing values: []\n"
          ]
        }
      ]
    },
    {
      "cell_type": "code",
      "source": [
        "# Train_Test"
      ],
      "metadata": {
        "id": "C3sWdPeMJ61E"
      },
      "execution_count": null,
      "outputs": []
    },
    {
      "cell_type": "code",
      "source": [
        "import pandas as pd\n",
        "from imblearn.over_sampling import SMOTE\n",
        "from sklearn.model_selection import train_test_split\n",
        "\n",
        "# Assuming df_imputed is your DataFrame with missing values imputed\n",
        "# Assuming 'Target' is the name of your target variable\n",
        "\n",
        "# Separate features and target variable\n",
        "X = df_imputed.drop('Target', axis=1)\n",
        "y = df_imputed['Target']\n",
        "\n",
        "# Split data into training and testing sets\n",
        "X_train, X_test, y_train, y_test = train_test_split(X, y, test_size=0.2, random_state=42)\n",
        "\n",
        "# Apply SMOTE to the training set\n",
        "smote = SMOTE(random_state=42)\n",
        "X_train_resampled, y_train_resampled = smote.fit_resample(X_train, y_train)\n",
        "\n",
        "# Now, X_train_resampled and y_train_resampled contain the resampled data with SMOTE"
      ],
      "metadata": {
        "id": "VqDaUVL8S19P"
      },
      "execution_count": null,
      "outputs": []
    },
    {
      "cell_type": "code",
      "source": [
        "y_train_resampled.value_counts()"
      ],
      "metadata": {
        "colab": {
          "base_uri": "https://localhost:8080/"
        },
        "id": "btunKD_oTB8c",
        "outputId": "4af9e08a-eed1-4b1d-eb91-adb4384fd317"
      },
      "execution_count": null,
      "outputs": [
        {
          "output_type": "execute_result",
          "data": {
            "text/plain": [
              "0.0    75015\n",
              "1.0    75015\n",
              "Name: Target, dtype: int64"
            ]
          },
          "metadata": {},
          "execution_count": 62
        }
      ]
    },
    {
      "cell_type": "code",
      "source": [],
      "metadata": {
        "id": "f8xWwBTFTFZ2"
      },
      "execution_count": null,
      "outputs": []
    },
    {
      "cell_type": "code",
      "source": [
        "from sklearn.ensemble import RandomForestClassifier\n",
        "from sklearn.metrics import accuracy_score, f1_score, precision_score, recall_score\n",
        "\n",
        "# Instantiate Random Forest classifier\n",
        "rf_classifier = RandomForestClassifier(random_state=42)\n",
        "\n",
        "# Train the classifier on the resampled training set\n",
        "rf_classifier.fit(X_train_resampled, y_train_resampled)\n",
        "\n",
        "# Get probability predictions on the test set\n",
        "y_proba_rf = rf_classifier.predict_proba(X_test)[:, 1]\n",
        "\n",
        "# Evaluate the model\n",
        "accuracy_rf = accuracy_score(y_test, (y_proba_rf > 0.5).astype(int))\n",
        "f1_rf = f1_score(y_test, (y_proba_rf > 0.5).astype(int))\n",
        "precision_rf = precision_score(y_test, (y_proba_rf > 0.5).astype(int))\n",
        "recall_rf = recall_score(y_test, (y_proba_rf > 0.5).astype(int))\n",
        "\n",
        "# Print the evaluation metrics\n",
        "print(\"Random Forest Model:\")\n",
        "print(f\"Accuracy: {accuracy_rf:.4f}\")\n",
        "print(f\"F1 Score: {f1_rf:.4f}\")\n",
        "print(f\"Precision: {precision_rf:.4f}\")\n",
        "print(f\"Recall: {recall_rf:.4f}\")"
      ],
      "metadata": {
        "colab": {
          "base_uri": "https://localhost:8080/"
        },
        "id": "DjYcDsuhTIUk",
        "outputId": "3dbc26b8-81d9-44aa-cbef-2ba0698c929f"
      },
      "execution_count": null,
      "outputs": [
        {
          "output_type": "stream",
          "name": "stdout",
          "text": [
            "Random Forest Model:\n",
            "Accuracy: 0.9999\n",
            "F1 Score: 0.9976\n",
            "Precision: 0.9976\n",
            "Recall: 0.9976\n"
          ]
        }
      ]
    },
    {
      "cell_type": "code",
      "source": [
        "from sklearn.linear_model import LogisticRegression\n",
        "from sklearn.metrics import accuracy_score, f1_score, precision_score, recall_score\n",
        "\n",
        "# Instantiate Logistic Regression classifier\n",
        "lr_classifier = LogisticRegression(random_state=42)\n",
        "\n",
        "# Train the classifier on the resampled training set\n",
        "lr_classifier.fit(X_train_resampled, y_train_resampled)\n",
        "\n",
        "# Get probability predictions on the test set\n",
        "y_proba_lr = lr_classifier.predict_proba(X_test)[:, 1]\n",
        "\n",
        "# Evaluate the model\n",
        "accuracy_lr = accuracy_score(y_test, (y_proba_lr > 0.5).astype(int))\n",
        "f1_lr = f1_score(y_test, (y_proba_lr > 0.5).astype(int))\n",
        "precision_lr = precision_score(y_test, (y_proba_lr > 0.5).astype(int))\n",
        "recall_lr = recall_score(y_test, (y_proba_lr > 0.5).astype(int))\n",
        "\n",
        "# Print the evaluation metrics\n",
        "print(\"Logistic Regression Model:\")\n",
        "print(f\"Accuracy: {accuracy_lr:.4f}\")\n",
        "print(f\"F1 Score: {f1_lr:.4f}\")\n",
        "print(f\"Precision: {precision_lr:.4f}\")\n",
        "print(f\"Recall: {recall_lr:.4f}\")\n"
      ],
      "metadata": {
        "colab": {
          "base_uri": "https://localhost:8080/"
        },
        "id": "t9svzK1dWeLt",
        "outputId": "3d646253-0163-4a92-ad52-e0989dcb7af5"
      },
      "execution_count": null,
      "outputs": [
        {
          "output_type": "stream",
          "name": "stdout",
          "text": [
            "Logistic Regression Model:\n",
            "Accuracy: 0.9969\n",
            "F1 Score: 0.9336\n",
            "Precision: 0.8811\n",
            "Recall: 0.9928\n"
          ]
        },
        {
          "output_type": "stream",
          "name": "stderr",
          "text": [
            "/usr/local/lib/python3.10/dist-packages/sklearn/linear_model/_logistic.py:458: ConvergenceWarning: lbfgs failed to converge (status=1):\n",
            "STOP: TOTAL NO. of ITERATIONS REACHED LIMIT.\n",
            "\n",
            "Increase the number of iterations (max_iter) or scale the data as shown in:\n",
            "    https://scikit-learn.org/stable/modules/preprocessing.html\n",
            "Please also refer to the documentation for alternative solver options:\n",
            "    https://scikit-learn.org/stable/modules/linear_model.html#logistic-regression\n",
            "  n_iter_i = _check_optimize_result(\n"
          ]
        }
      ]
    },
    {
      "cell_type": "code",
      "source": [
        "import tensorflow as tf\n",
        "from tensorflow.keras.models import Sequential\n",
        "from tensorflow.keras.layers import Dense\n",
        "\n",
        "# Assuming X_train_resampled is your training feature matrix and y_train_resampled is your training target variable\n",
        "# Assuming X_test is your test feature matrix\n",
        "\n",
        "# Define the neural network model\n",
        "model = Sequential([\n",
        "    Dense(64, activation='relu', input_shape=(X_train_resampled.shape[1],)),\n",
        "    Dense(32, activation='relu'),\n",
        "    Dense(1, activation='sigmoid')  # Binary classification, so use 'sigmoid' activation for the output layer\n",
        "])\n",
        "\n",
        "# Compile the model\n",
        "model.compile(optimizer='adam', loss='binary_crossentropy', metrics=['accuracy'])\n",
        "\n",
        "# Train the model on the resampled training set\n",
        "model.fit(X_train_resampled, y_train_resampled, epochs=10, batch_size=32, validation_split=0.2)\n",
        "\n",
        "# Evaluate the model on the test set\n",
        "test_loss, test_accuracy = model.evaluate(X_test, y_test)\n",
        "print(f'Test Accuracy: {test_accuracy:.4f}')\n",
        "\n",
        "# Get probability predictions on the test set\n",
        "y_proba_nn_test = model.predict(X_test)\n",
        "\n",
        "# Plot the decision boundary\n",
        "# (Note: Plotting decision boundaries for neural networks in high dimensions is not straightforward)"
      ],
      "metadata": {
        "colab": {
          "base_uri": "https://localhost:8080/"
        },
        "id": "VJRiHM9dalIO",
        "outputId": "0f46edf6-7979-4b54-8a50-36de0ed07546"
      },
      "execution_count": null,
      "outputs": [
        {
          "output_type": "stream",
          "name": "stdout",
          "text": [
            "Epoch 1/10\n",
            "3751/3751 [==============================] - 19s 4ms/step - loss: 5.1915 - accuracy: 0.9781 - val_loss: 5.5813 - val_accuracy: 0.9425\n",
            "Epoch 2/10\n",
            "3751/3751 [==============================] - 12s 3ms/step - loss: 1.4827 - accuracy: 0.9905 - val_loss: 3.7770e-37 - val_accuracy: 1.0000\n",
            "Epoch 3/10\n",
            "3751/3751 [==============================] - 12s 3ms/step - loss: 0.6441 - accuracy: 0.9938 - val_loss: 4.4439e-15 - val_accuracy: 1.0000\n",
            "Epoch 4/10\n",
            "3751/3751 [==============================] - 11s 3ms/step - loss: 0.2748 - accuracy: 0.9945 - val_loss: 6.9272e-09 - val_accuracy: 1.0000\n",
            "Epoch 5/10\n",
            "3751/3751 [==============================] - 12s 3ms/step - loss: 0.0608 - accuracy: 0.9853 - val_loss: 0.0485 - val_accuracy: 0.9467\n",
            "Epoch 6/10\n",
            "3751/3751 [==============================] - 12s 3ms/step - loss: 0.0160 - accuracy: 0.9962 - val_loss: 0.0033 - val_accuracy: 0.9996\n",
            "Epoch 7/10\n",
            "3751/3751 [==============================] - 12s 3ms/step - loss: 0.0112 - accuracy: 0.9972 - val_loss: 0.0050 - val_accuracy: 0.9985\n",
            "Epoch 8/10\n",
            "3751/3751 [==============================] - 12s 3ms/step - loss: 0.0167 - accuracy: 0.9964 - val_loss: 0.0030 - val_accuracy: 0.9995\n",
            "Epoch 9/10\n",
            "3751/3751 [==============================] - 12s 3ms/step - loss: 0.0134 - accuracy: 0.9970 - val_loss: 0.0042 - val_accuracy: 0.9988\n",
            "Epoch 10/10\n",
            "3751/3751 [==============================] - 12s 3ms/step - loss: 0.0131 - accuracy: 0.9970 - val_loss: 5.9883e-04 - val_accuracy: 0.9998\n",
            "599/599 [==============================] - 2s 3ms/step - loss: 0.0137 - accuracy: 0.9975\n",
            "Test Accuracy: 0.9975\n",
            "599/599 [==============================] - 1s 2ms/step\n"
          ]
        }
      ]
    },
    {
      "cell_type": "code",
      "source": [
        "import tensorflow as tf\n",
        "from tensorflow.keras.models import Sequential\n",
        "from tensorflow.keras.layers import Dense\n",
        "from sklearn.metrics import f1_score\n",
        "\n",
        "# Assuming X_train_resampled is your training feature matrix and y_train_resampled is your training target variable\n",
        "# Assuming X_test is your test feature matrix\n",
        "\n",
        "# Define a custom callback to compute and print F1 score at the end of each epoch\n",
        "class F1ScoreCallback(tf.keras.callbacks.Callback):\n",
        "    def __init__(self, X_val, y_val):\n",
        "        super(F1ScoreCallback, self).__init__()\n",
        "        self.X_val = X_val\n",
        "        self.y_val = y_val\n",
        "\n",
        "    def on_epoch_end(self, epoch, logs=None):\n",
        "        y_pred_proba = self.model.predict(self.X_val)\n",
        "        y_pred = (y_pred_proba > 0.5).astype(int)\n",
        "        f1_val = f1_score(self.y_val, y_pred)\n",
        "        print(f'Epoch {epoch + 1}, F1 Score: {f1_val:.4f}')\n",
        "\n",
        "# Create the neural network model\n",
        "model = Sequential([\n",
        "    Dense(64, activation='relu', input_shape=(X_train_resampled.shape[1],)),\n",
        "    Dense(32, activation='relu'),\n",
        "    Dense(1, activation='sigmoid')\n",
        "])\n",
        "\n",
        "# Compile the model\n",
        "model.compile(optimizer='adam', loss='binary_crossentropy', metrics=['accuracy'])\n",
        "\n",
        "# Define the F1 Score callback\n",
        "f1_score_callback = F1ScoreCallback(X_test, y_test)\n",
        "\n",
        "# Train the model with the F1 Score callback\n",
        "model.fit(X_train_resampled, y_train_resampled, epochs=10, batch_size=32, validation_split=0.2, callbacks=[f1_score_callback])\n"
      ],
      "metadata": {
        "colab": {
          "base_uri": "https://localhost:8080/"
        },
        "id": "WA_-AUVkanF5",
        "outputId": "e67d767c-07ff-4b00-f2d3-2c713f874e79"
      },
      "execution_count": null,
      "outputs": [
        {
          "output_type": "stream",
          "name": "stdout",
          "text": [
            "Epoch 1/10\n",
            "599/599 [==============================] - 1s 2ms/step\n",
            "Epoch 1, F1 Score: 0.9129\n",
            "3751/3751 [==============================] - 15s 4ms/step - loss: 2.9498 - accuracy: 0.9764 - val_loss: 8.8586 - val_accuracy: 0.9032\n",
            "Epoch 2/10\n",
            "599/599 [==============================] - 1s 2ms/step\n",
            "Epoch 2, F1 Score: 0.9252\n",
            "3751/3751 [==============================] - 13s 3ms/step - loss: 1.1915 - accuracy: 0.9901 - val_loss: 0.6979 - val_accuracy: 0.9898\n",
            "Epoch 3/10\n",
            "599/599 [==============================] - 1s 2ms/step\n",
            "Epoch 3, F1 Score: 0.9444\n",
            "3751/3751 [==============================] - 15s 4ms/step - loss: 0.6734 - accuracy: 0.9929 - val_loss: 0.7174 - val_accuracy: 0.9796\n",
            "Epoch 4/10\n",
            "599/599 [==============================] - 1s 2ms/step\n",
            "Epoch 4, F1 Score: 0.9517\n",
            "3751/3751 [==============================] - 13s 3ms/step - loss: 0.3256 - accuracy: 0.9938 - val_loss: 0.0724 - val_accuracy: 0.9971\n",
            "Epoch 5/10\n",
            "599/599 [==============================] - 1s 2ms/step\n",
            "Epoch 5, F1 Score: 0.9728\n",
            "3751/3751 [==============================] - 14s 4ms/step - loss: 0.1232 - accuracy: 0.9951 - val_loss: 0.0789 - val_accuracy: 0.9921\n",
            "Epoch 6/10\n",
            "599/599 [==============================] - 1s 2ms/step\n",
            "Epoch 6, F1 Score: 0.9542\n",
            "3751/3751 [==============================] - 14s 4ms/step - loss: 0.0537 - accuracy: 0.9960 - val_loss: 0.0028 - val_accuracy: 0.9991\n",
            "Epoch 7/10\n",
            "599/599 [==============================] - 1s 2ms/step\n",
            "Epoch 7, F1 Score: 0.9575\n",
            "3751/3751 [==============================] - 13s 3ms/step - loss: 0.0315 - accuracy: 0.9968 - val_loss: 0.0268 - val_accuracy: 0.9984\n",
            "Epoch 8/10\n",
            "599/599 [==============================] - 1s 2ms/step\n",
            "Epoch 8, F1 Score: 0.9575\n",
            "3751/3751 [==============================] - 14s 4ms/step - loss: 0.0135 - accuracy: 0.9974 - val_loss: 0.0023 - val_accuracy: 0.9994\n",
            "Epoch 9/10\n",
            "599/599 [==============================] - 1s 2ms/step\n",
            "Epoch 9, F1 Score: 0.9420\n",
            "3751/3751 [==============================] - 15s 4ms/step - loss: 0.0321 - accuracy: 0.9957 - val_loss: 0.0072 - val_accuracy: 0.9969\n",
            "Epoch 10/10\n",
            "599/599 [==============================] - 1s 2ms/step\n",
            "Epoch 10, F1 Score: 0.9306\n",
            "3751/3751 [==============================] - 13s 4ms/step - loss: 0.0132 - accuracy: 0.9968 - val_loss: 0.0035 - val_accuracy: 0.9988\n"
          ]
        },
        {
          "output_type": "execute_result",
          "data": {
            "text/plain": [
              "<keras.src.callbacks.History at 0x790a0c874820>"
            ]
          },
          "metadata": {},
          "execution_count": 67
        }
      ]
    },
    {
      "cell_type": "code",
      "source": [
        "import xgboost as xgb\n",
        "from sklearn.metrics import accuracy_score, f1_score, precision_score, recall_score\n",
        "\n",
        "# Assuming X_train_resampled is your training feature matrix and y_train_resampled is your training target variable\n",
        "# Assuming X_test is your test feature matrix and y_test is your test target variable\n",
        "\n",
        "# Create XGBoost DMatrix for training and test sets\n",
        "dtrain = xgb.DMatrix(X_train_resampled, label=y_train_resampled)\n",
        "dtest = xgb.DMatrix(X_test, label=y_test)\n",
        "\n",
        "# Define XGBoost parameters\n",
        "params = {\n",
        "    'objective': 'binary:logistic',\n",
        "    'eval_metric': 'logloss',\n",
        "    'max_depth': 3,\n",
        "    'learning_rate': 0.1,\n",
        "    'subsample': 0.8,\n",
        "    'colsample_bytree': 0.8,\n",
        "    'n_estimators': 100\n",
        "}\n",
        "\n",
        "# Train XGBoost model\n",
        "num_rounds = 100\n",
        "bst = xgb.train(params, dtrain, num_rounds)\n",
        "\n",
        "# Predictions on the test set\n",
        "y_pred_proba_xgb = bst.predict(dtest)\n",
        "\n",
        "# Convert probabilities to binary predictions (0 or 1)\n",
        "y_pred_xgb = (y_pred_proba_xgb > 0.5).astype(int)\n",
        "\n",
        "# Evaluate the model\n",
        "accuracy_xgb = accuracy_score(y_test, y_pred_xgb)\n",
        "f1_xgb = f1_score(y_test, y_pred_xgb)\n",
        "precision_xgb = precision_score(y_test, y_pred_xgb)\n",
        "recall_xgb = recall_score(y_test, y_pred_xgb)\n",
        "\n",
        "# Print the evaluation metrics\n",
        "print(f\"XGBoost Model:\")\n",
        "print(f\"Accuracy: {accuracy_xgb:.4f}\")\n",
        "print(f\"F1 Score: {f1_xgb:.4f}\")\n",
        "print(f\"Precision: {precision_xgb:.4f}\")\n",
        "print(f\"Recall: {recall_xgb:.4f}\")\n"
      ],
      "metadata": {
        "colab": {
          "base_uri": "https://localhost:8080/"
        },
        "id": "SWJLzfc2bkBO",
        "outputId": "fa5db516-edb0-4f43-94ea-74baffb375a8"
      },
      "execution_count": null,
      "outputs": [
        {
          "output_type": "stream",
          "name": "stderr",
          "text": [
            "/usr/local/lib/python3.10/dist-packages/xgboost/core.py:160: UserWarning: [14:35:37] WARNING: /workspace/src/learner.cc:742: \n",
            "Parameters: { \"n_estimators\" } are not used.\n",
            "\n",
            "  warnings.warn(smsg, UserWarning)\n"
          ]
        },
        {
          "output_type": "stream",
          "name": "stdout",
          "text": [
            "XGBoost Model:\n",
            "Accuracy: 0.9999\n",
            "F1 Score: 0.9988\n",
            "Precision: 1.0000\n",
            "Recall: 0.9976\n"
          ]
        }
      ]
    },
    {
      "cell_type": "code",
      "source": [
        "from sklearn import svm\n",
        "from sklearn.metrics import accuracy_score, f1_score, precision_score, recall_score, confusion_matrix\n",
        "from sklearn.model_selection import train_test_split\n",
        "\n",
        "# Assuming X is your feature matrix and y is your target variable\n",
        "# Split the data into training and test sets\n",
        "X_train, X_test, y_train, y_test = train_test_split(X, y, test_size=0.2, random_state=42)\n",
        "\n",
        "# Create and train an SVM classifier\n",
        "svm_classifier = svm.SVC(kernel='linear', C=1.0)  # You can adjust the kernel and C parameter\n",
        "svm_classifier.fit(X_train, y_train)\n",
        "\n",
        "# Make predictions on the test set\n",
        "y_pred = svm_classifier.predict(X_test)\n",
        "\n",
        "# Compute accuracy metrics\n",
        "accuracy = accuracy_score(y_test, y_pred)\n",
        "f1 = f1_score(y_test, y_pred)\n",
        "precision = precision_score(y_test, y_pred)\n",
        "recall = recall_score(y_test, y_pred)\n",
        "conf_matrix = confusion_matrix(y_test, y_pred)\n",
        "\n",
        "# Print the accuracy metrics\n",
        "print(f\"Accuracy: {accuracy:.4f}\")\n",
        "print(f\"F1 Score: {f1:.4f}\")\n",
        "print(f\"Precision: {precision:.4f}\")\n",
        "print(f\"Recall: {recall:.4f}\")\n",
        "print(f\"Confusion Matrix:\\n{conf_matrix}\")\n"
      ],
      "metadata": {
        "colab": {
          "base_uri": "https://localhost:8080/"
        },
        "id": "YYzwT8Q1fzxa",
        "outputId": "d9790ffb-bfc9-44fd-d598-d3fdc4a3bec4"
      },
      "execution_count": null,
      "outputs": [
        {
          "output_type": "stream",
          "name": "stdout",
          "text": [
            "Accuracy: 0.9999\n",
            "F1 Score: 0.9976\n",
            "Precision: 1.0000\n",
            "Recall: 0.9952\n",
            "Confusion Matrix:\n",
            "[[18732     0]\n",
            " [    2   416]]\n"
          ]
        }
      ]
    },
    {
      "cell_type": "code",
      "source": [
        "from sklearn.tree import DecisionTreeClassifier\n",
        "from sklearn.metrics import accuracy_score, f1_score, precision_score, recall_score, confusion_matrix\n",
        "from sklearn.model_selection import train_test_split\n",
        "\n",
        "# Assuming X is your feature matrix and y is your target variable\n",
        "# Split the data into training and test sets\n",
        "X_train, X_test, y_train, y_test = train_test_split(X, y, test_size=0.2, random_state=42)\n",
        "\n",
        "# Create and train a Decision Tree classifier\n",
        "dt_classifier = DecisionTreeClassifier(random_state=42)  # You can adjust hyperparameters\n",
        "dt_classifier.fit(X_train, y_train)\n",
        "\n",
        "# Make predictions on the test set\n",
        "y_pred = dt_classifier.predict(X_test)\n",
        "\n",
        "# Compute accuracy metrics\n",
        "accuracy = accuracy_score(y_test, y_pred)\n",
        "f1 = f1_score(y_test, y_pred)\n",
        "precision = precision_score(y_test, y_pred)\n",
        "recall = recall_score(y_test, y_pred)\n",
        "conf_matrix = confusion_matrix(y_test, y_pred)\n",
        "\n",
        "# Print the accuracy metrics\n",
        "print(f\"Accuracy: {accuracy:.4f}\")\n",
        "print(f\"F1 Score: {f1:.4f}\")\n",
        "print(f\"Precision: {precision:.4f}\")\n",
        "print(f\"Recall: {recall:.4f}\")\n",
        "print(f\"Confusion Matrix:\\n{conf_matrix}\")\n"
      ],
      "metadata": {
        "colab": {
          "base_uri": "https://localhost:8080/"
        },
        "id": "mQj3E3YKg7xn",
        "outputId": "e835152e-daa8-4463-d99a-3805328b0ba7"
      },
      "execution_count": null,
      "outputs": [
        {
          "output_type": "stream",
          "name": "stdout",
          "text": [
            "Accuracy: 0.9999\n",
            "F1 Score: 0.9988\n",
            "Precision: 1.0000\n",
            "Recall: 0.9976\n",
            "Confusion Matrix:\n",
            "[[18732     0]\n",
            " [    1   417]]\n"
          ]
        }
      ]
    },
    {
      "cell_type": "code",
      "source": [
        "y_test.value_counts()"
      ],
      "metadata": {
        "colab": {
          "base_uri": "https://localhost:8080/"
        },
        "id": "IIqO5x4DhZuP",
        "outputId": "d2004b8f-2966-412c-ba9a-9c560c591987"
      },
      "execution_count": null,
      "outputs": [
        {
          "output_type": "execute_result",
          "data": {
            "text/plain": [
              "0.0    18732\n",
              "1.0      418\n",
              "Name: Target, dtype: int64"
            ]
          },
          "metadata": {},
          "execution_count": 72
        }
      ]
    },
    {
      "cell_type": "code",
      "source": [],
      "metadata": {
        "id": "6IUhQ93Ihr9L"
      },
      "execution_count": null,
      "outputs": []
    }
  ]
}